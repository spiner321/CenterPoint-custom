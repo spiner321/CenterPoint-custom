{
 "cells": [
  {
   "cell_type": "code",
   "execution_count": null,
   "metadata": {},
   "outputs": [],
   "source": [
    "import numpy as np"
   ]
  },
  {
   "cell_type": "markdown",
   "metadata": {},
   "source": [
    "# # setup\n",
    "---"
   ]
  },
  {
   "cell_type": "code",
   "execution_count": null,
   "metadata": {},
   "outputs": [],
   "source": [
    "%cd /data/kimgh/CenterPoint-static/det3d/ops/iou3d_nms\n",
    "\n",
    "!python setup.py build_ext --inplace"
   ]
  },
  {
   "cell_type": "markdown",
   "metadata": {},
   "source": [
    "# # Prepare data\n",
    "---"
   ]
  },
  {
   "cell_type": "code",
   "execution_count": null,
   "metadata": {},
   "outputs": [],
   "source": [
    "%cd /data/kimgh/CenterPoint\n",
    "\n",
    "!python create_data.py nuscenes_data_prep --root_path '/data/kimgh/CenterPoint/data/nuScenes/' --version 'v1.0-mini' --nsweeps 10"
   ]
  },
  {
   "cell_type": "code",
   "execution_count": null,
   "metadata": {},
   "outputs": [],
   "source": [
    "%cd /data/kimgh/CenterPoint-dynamic\n",
    "\n",
    "root_path = '/data/kimgh/CenterPoint-NIA/data'\n",
    "\n",
    "!python create_data.py nia_data_prep --root_path {root_path}"
   ]
  },
  {
   "cell_type": "code",
   "execution_count": 2,
   "metadata": {},
   "outputs": [
    {
     "name": "stdout",
     "output_type": "stream",
     "text": [
      "/data/kimgh/CenterPoint-custom/CenterPoint-static\n",
      "no apex\n",
      "2023-04-06 16:16:28.007440: I tensorflow/core/platform/cpu_feature_guard.cc:182] This TensorFlow binary is optimized to use available CPU instructions in performance-critical operations.\n",
      "To enable the following instructions: AVX2 FMA, in other operations, rebuild TensorFlow with the appropriate compiler flags.\n",
      "2023-04-06 16:16:28.910188: W tensorflow/compiler/tf2tensorrt/utils/py_utils.cc:38] TF-TRT Warning: Could not find TensorRT\n",
      "No Tensorflow\n",
      "exist train frames: 549 exist val frames: 549 exist test_nomal frames: 49102 exist test_abnormal frames: 51272\n",
      "  0%|                                                   | 0/549 [00:00<?, ?it/s]/data/kimgh/CenterPoint-custom/CenterPoint-static/det3d/datasets/nia/nia_common.py:702: FutureWarning: elementwise comparison failed; returning scalar instead, but in the future will perform elementwise comparison\n",
      "  if 'ETC' in names:\n",
      "100%|████████████████████████████████████████| 549/549 [00:02<00:00, 235.23it/s]\n",
      "100%|████████████████████████████████████████| 549/549 [00:02<00:00, 238.12it/s]\n",
      "100%|████████████████████████████████████| 49102/49102 [02:08<00:00, 382.09it/s]\n",
      "100%|████████████████████████████████████| 51272/51272 [03:22<00:00, 252.93it/s]\n"
     ]
    }
   ],
   "source": [
    "%cd /data/kimgh/CenterPoint-custom/CenterPoint-static\n",
    "\n",
    "root_path = '/data/kimgh/CenterPoint-custom/CenterPoint-static/data'\n",
    "sensor = 'radar'\n",
    "\n",
    "!python create_data.py nia_data_prep --root_path {root_path} --sensor {sensor}"
   ]
  },
  {
   "cell_type": "markdown",
   "metadata": {},
   "source": [
    "# # Train\n",
    "---"
   ]
  },
  {
   "cell_type": "code",
   "execution_count": null,
   "metadata": {},
   "outputs": [],
   "source": [
    "%cd /data/kimgh/CenterPoint\n",
    "\n",
    "CONFIG_PATH = '/data/kimgh/CenterPoint/configs/nusc/voxelnet/nusc_centerpoint_voxelnet_01voxel.py'\n",
    "work_dir = './result/nusc_centerpoint_voxelnet_01voxel'\n",
    "\n",
    "f'!torchrun --nproc_per_node 4 train.py {CONFIG_PATH} --work_dir {work_dir} --validate'"
   ]
  },
  {
   "cell_type": "code",
   "execution_count": null,
   "metadata": {},
   "outputs": [],
   "source": [
    "%cd /data/kimgh/CenterPoint\n",
    "\n",
    "CONFIG_PATH = '/data/kimgh/CenterPoint/configs/nusc/voxelnet/nusc_centerpoint_voxelnet_01voxel.py'\n",
    "work_dir = './result/nusc_centerpoint_voxelnet_01voxel'\n",
    "\n",
    "!python train.py {CONFIG_PATH} --work_dir {work_dir} --validate"
   ]
  },
  {
   "cell_type": "markdown",
   "metadata": {},
   "source": [
    "# # Validation\n",
    "---"
   ]
  },
  {
   "cell_type": "code",
   "execution_count": 14,
   "metadata": {},
   "outputs": [
    {
     "name": "stdout",
     "output_type": "stream",
     "text": [
      "/data/kimgh/CenterPoint-custom/CenterPoint-static\n",
      "No APEX!\n",
      "no apex\n",
      "2023-04-06 16:02:30.893835: I tensorflow/core/platform/cpu_feature_guard.cc:182] This TensorFlow binary is optimized to use available CPU instructions in performance-critical operations.\n",
      "To enable the following instructions: AVX2 FMA, in other operations, rebuild TensorFlow with the appropriate compiler flags.\n",
      "2023-04-06 16:02:31.867975: W tensorflow/compiler/tf2tensorrt/utils/py_utils.cc:38] TF-TRT Warning: Could not find TensorRT\n",
      "No Tensorflow\n",
      "Deformable Convolution not built!\n",
      "No APEX!\n",
      "/data/kimgh/CenterPoint-custom/CenterPoint-static/configs/nia/lidar/nia_centerpoint_voxelnet_01voxel.py\n",
      "2023-04-06 16:02:32,560 - INFO - Sensor: lidar\n",
      "2023-04-06 16:02:32,560 - INFO - Config: /data/kimgh/CenterPoint-custom/CenterPoint-static/configs/nia/lidar/nia_centerpoint_voxelnet_01voxel.py\n",
      "2023-04-06 16:02:32,560 - INFO - Distributed testing: False\n",
      "2023-04-06 16:02:32,560 - INFO - torch.backends.cudnn.benchmark: False\n",
      "2023-04-06 16:02:32,663 - INFO - Finish RPN Initialization\n",
      "2023-04-06 16:02:32,663 - INFO - num_classes: [1, 1, 1, 1, 1, 1, 1]\n",
      "Use HM Bias:  -2.19\n",
      "2023-04-06 16:02:32,707 - INFO - Finish CenterHead Initialization\n",
      "Use Val Set\n",
      "1\n",
      "2023-04-06 16:02:36,939 - INFO - work dir: /data/kimgh/CenterPoint-custom/CenterPoint-static/result/lidar/normal\n",
      "[                              ] 0/49102, elapsed: 0s, ETA:/home/ubuntu/anaconda3/envs/nia48_310/lib/python3.10/site-packages/torch/functional.py:504: UserWarning: torch.meshgrid: in an upcoming release, it will be required to pass the indexing argument. (Triggered internally at ../aten/src/ATen/native/TensorShape.cpp:3483.)\n",
      "  return _VF.meshgrid(tensors, **kwargs)  # type: ignore[attr-defined]\n",
      "[                              ] 45/49102, 1.8 task/s, elapsed: 25s, ETA: 27747s"
     ]
    }
   ],
   "source": [
    "# lidar-normal\n",
    "\n",
    "%cd /data/kimgh/CenterPoint-custom/CenterPoint-static\n",
    "\n",
    "config = '/data/kimgh/CenterPoint-custom/CenterPoint-static/configs/nia/lidar/nia_centerpoint_voxelnet_01voxel.py'\n",
    "work_dir = '/data/kimgh/CenterPoint-custom/CenterPoint-static/result/lidar/normal'\n",
    "checkpoint = '/data/kimgh/CenterPoint-custom/CenterPoint-static/weights/nia_centerpoint_static_lidar.pth'\n",
    "\n",
    "!CUDA_VISIBLE_DEVICES=1 python dist_test.py --config {config} --work_dir {work_dir} --checkpoint {checkpoint} --speed_test"
   ]
  },
  {
   "cell_type": "code",
   "execution_count": 2,
   "metadata": {},
   "outputs": [
    {
     "name": "stdout",
     "output_type": "stream",
     "text": [
      "/data/kimgh/CenterPoint-custom/CenterPoint-static\n",
      "No APEX!\n",
      "no apex\n",
      "2023-04-06 16:05:18.019146: I tensorflow/core/platform/cpu_feature_guard.cc:182] This TensorFlow binary is optimized to use available CPU instructions in performance-critical operations.\n",
      "To enable the following instructions: AVX2 FMA, in other operations, rebuild TensorFlow with the appropriate compiler flags.\n",
      "2023-04-06 16:05:19.313118: W tensorflow/compiler/tf2tensorrt/utils/py_utils.cc:38] TF-TRT Warning: Could not find TensorRT\n",
      "No Tensorflow\n",
      "Deformable Convolution not built!\n",
      "No APEX!\n",
      "usage: dist_test.py [-h] [--config CONFIG] [--sensor SENSOR]\n",
      "                    [--work_dir WORK_DIR] [--checkpoint CHECKPOINT]\n",
      "                    [--txt_result TXT_RESULT] [--gpus GPUS]\n",
      "                    [--launcher {none,pytorch,slurm,mpi}] [--speed_test]\n",
      "                    [--local_rank LOCAL_RANK] [--testset]\n",
      "                    [--anno_path ANNO_PATH]\n",
      "dist_test.py: error: unrecognized arguments: copy.py\n"
     ]
    }
   ],
   "source": [
    "# lidar-abnormal\n",
    "\n",
    "%cd /data/kimgh/CenterPoint-custom/CenterPoint-static\n",
    "\n",
    "config = '/data/kimgh/CenterPoint-custom/CenterPoint-static/configs/nia/lidar/nia_centerpoint_voxelnet_01voxel copy.py'\n",
    "work_dir = '/data/kimgh/CenterPoint-custom/CenterPoint-static/result/lidar/abnormal'\n",
    "checkpoint = '/data/kimgh/CenterPoint-custom/CenterPoint-static/weights/nia_centerpoint_static_lidar.pth'\n",
    "\n",
    "!CUDA_VISIBLE_DEVICES=2 python dist_test.py --config {config} --work_dir {work_dir} --checkpoint {checkpoint} --speed_test"
   ]
  }
 ],
 "metadata": {
  "kernelspec": {
   "display_name": "nia48_310",
   "language": "python",
   "name": "python3"
  },
  "language_info": {
   "codemirror_mode": {
    "name": "ipython",
    "version": 3
   },
   "file_extension": ".py",
   "mimetype": "text/x-python",
   "name": "python",
   "nbconvert_exporter": "python",
   "pygments_lexer": "ipython3",
   "version": "3.10.10"
  },
  "orig_nbformat": 4
 },
 "nbformat": 4,
 "nbformat_minor": 2
}
