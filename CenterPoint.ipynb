{
 "cells": [
  {
   "cell_type": "code",
   "execution_count": null,
   "metadata": {},
   "outputs": [],
   "source": [
    "import numpy as np"
   ]
  },
  {
   "cell_type": "markdown",
   "metadata": {},
   "source": [
    "# # setup\n",
    "---"
   ]
  },
  {
   "cell_type": "code",
   "execution_count": null,
   "metadata": {},
   "outputs": [],
   "source": [
    "%cd /data/kimgh/CenterPoint-static/det3d/ops/iou3d_nms\n",
    "\n",
    "!python setup.py build_ext --inplace"
   ]
  },
  {
   "cell_type": "markdown",
   "metadata": {},
   "source": [
    "# # Prepare data\n",
    "---"
   ]
  },
  {
   "cell_type": "code",
   "execution_count": null,
   "metadata": {},
   "outputs": [],
   "source": [
    "%cd /data/kimgh/CenterPoint\n",
    "\n",
    "!python create_data.py nuscenes_data_prep --root_path '/data/kimgh/CenterPoint/data/nuScenes/' --version 'v1.0-mini' --nsweeps 10"
   ]
  },
  {
   "cell_type": "code",
   "execution_count": null,
   "metadata": {},
   "outputs": [],
   "source": [
    "%cd /data/kimgh/CenterPoint-custom/CenterPoint-static\n",
    "\n",
    "root_path = '/data/kimgh/CenterPoint-custom/CenterPoint-static/data_temp'\n",
    "sensor ='radar'\n",
    "\n",
    "!python create_data.py nia_data_prep --root_path {root_path} --sensor {sensor}"
   ]
  },
  {
   "cell_type": "code",
   "execution_count": null,
   "metadata": {},
   "outputs": [],
   "source": [
    "%cd /data/kimgh/CenterPoint-custom/CenterPoint-static\n",
    "\n",
    "root_path = '/data/kimgh/CenterPoint-custom/CenterPoint-static/data'\n",
    "sensor = 'lidar'\n",
    "\n",
    "!python create_data.py nia_data_prep --root_path {root_path} --sensor {sensor}"
   ]
  },
  {
   "cell_type": "markdown",
   "metadata": {},
   "source": [
    "# # Train\n",
    "---"
   ]
  },
  {
   "cell_type": "code",
   "execution_count": null,
   "metadata": {},
   "outputs": [],
   "source": [
    "%cd /data/kimgh/CenterPoint\n",
    "\n",
    "CONFIG_PATH = '/data/kimgh/CenterPoint/configs/nusc/voxelnet/nusc_centerpoint_voxelnet_01voxel.py'\n",
    "work_dir = './result/nusc_centerpoint_voxelnet_01voxel'\n",
    "\n",
    "f'!torchrun --nproc_per_node 4 train.py {CONFIG_PATH} --work_dir {work_dir} --validate'"
   ]
  },
  {
   "cell_type": "code",
   "execution_count": null,
   "metadata": {},
   "outputs": [],
   "source": [
    "%cd /data/kimgh/CenterPoint\n",
    "\n",
    "CONFIG_PATH = '/data/kimgh/CenterPoint/configs/nusc/voxelnet/nusc_centerpoint_voxelnet_01voxel.py'\n",
    "work_dir = './result/nusc_centerpoint_voxelnet_01voxel'\n",
    "\n",
    "!python train.py {CONFIG_PATH} --work_dir {work_dir} --validate"
   ]
  },
  {
   "cell_type": "markdown",
   "metadata": {},
   "source": [
    "# # Validation\n",
    "---"
   ]
  },
  {
   "cell_type": "code",
   "execution_count": null,
   "metadata": {},
   "outputs": [],
   "source": [
    "# lidar-normal\n",
    "\n",
    "%cd /data/kimgh/CenterPoint-custom/CenterPoint-static\n",
    "\n",
    "config = '/data/kimgh/CenterPoint-custom/CenterPoint-static/configs/nia/lidar/nia_centerpoint_voxelnet_01voxel_lidar_normal.py'\n",
    "work_dir = '/data/kimgh/CenterPoint-custom/CenterPoint-static/result/lidar/normal'\n",
    "checkpoint = '/data/kimgh/CenterPoint-custom/CenterPoint-static/weights/nia_centerpoint_static_lidar.pth'\n",
    "\n",
    "!CUDA_VISIBLE_DEVICES=1 python dist_test.py --config {config} --work_dir {work_dir} --checkpoint {checkpoint} --speed_test"
   ]
  },
  {
   "cell_type": "code",
   "execution_count": null,
   "metadata": {},
   "outputs": [],
   "source": [
    "# lidar-abnormal\n",
    "\n",
    "%cd /data/kimgh/CenterPoint-custom/CenterPoint-static\n",
    "\n",
    "config = '/data/kimgh/CenterPoint-custom/CenterPoint-static/configs/nia/lidar/nia_centerpoint_voxelnet_01voxel_lidar_abnormal.py'\n",
    "work_dir = '/data/kimgh/CenterPoint-custom/CenterPoint-static/result/lidar/abnormal'\n",
    "checkpoint = '/data/kimgh/CenterPoint-custom/CenterPoint-static/weights/nia_centerpoint_static_lidar.pth'\n",
    "\n",
    "f'!CUDA_VISIBLE_DEVICES=2 python dist_test.py --config {config} --work_dir {work_dir} --checkpoint {checkpoint} --speed_test'"
   ]
  },
  {
   "cell_type": "code",
   "execution_count": 70,
   "metadata": {},
   "outputs": [
    {
     "name": "stdout",
     "output_type": "stream",
     "text": [
      "/data/kimgh/CenterPoint-custom/CenterPoint-static\n",
      "No APEX!\n",
      "no apex\n",
      "2023-04-07 01:41:41.862229: I tensorflow/core/platform/cpu_feature_guard.cc:182] This TensorFlow binary is optimized to use available CPU instructions in performance-critical operations.\n",
      "To enable the following instructions: AVX2 FMA, in other operations, rebuild TensorFlow with the appropriate compiler flags.\n",
      "2023-04-07 01:41:42.856405: W tensorflow/compiler/tf2tensorrt/utils/py_utils.cc:38] TF-TRT Warning: Could not find TensorRT\n",
      "No Tensorflow\n",
      "Deformable Convolution not built!\n",
      "No APEX!\n",
      "/data/kimgh/CenterPoint-custom/CenterPoint-static/configs/nia/radar/nia_centerpoint_voxelnet_01voxel_radar_normal.py\n",
      "2023-04-07 01:41:43,823 - INFO - Sensor: radar\n",
      "2023-04-07 01:41:43,823 - INFO - Config: /data/kimgh/CenterPoint-custom/CenterPoint-static/configs/nia/radar/nia_centerpoint_voxelnet_01voxel_radar_normal.py\n",
      "2023-04-07 01:41:43,823 - INFO - Distributed testing: False\n",
      "2023-04-07 01:41:43,823 - INFO - torch.backends.cudnn.benchmark: False\n",
      "2023-04-07 01:41:43,951 - INFO - Finish RPN Initialization\n",
      "2023-04-07 01:41:43,951 - INFO - num_classes: [1, 1, 1, 1, 1, 1, 1]\n",
      "Use HM Bias:  -2.19\n",
      "2023-04-07 01:41:44,013 - INFO - Finish CenterHead Initialization\n",
      "Use Val Set\n",
      "1\n",
      "The model and loaded state dict do not match exactly\n",
      "\n",
      "missing keys in source state_dict: bbox_head.tasks.6.dim.1.bias, bbox_head.tasks.6.vel.1.running_var, bbox_head.tasks.6.rot.0.bias, bbox_head.tasks.6.reg.1.running_mean, bbox_head.tasks.6.reg.0.bias, bbox_head.tasks.6.rot.1.bias, bbox_head.tasks.6.hm.3.bias, bbox_head.tasks.6.dim.1.running_var, bbox_head.tasks.6.dim.0.weight, bbox_head.tasks.6.hm.1.weight, bbox_head.tasks.6.rot.3.bias, bbox_head.tasks.6.vel.1.running_mean, bbox_head.tasks.6.dim.0.bias, bbox_head.tasks.6.reg.1.running_var, bbox_head.tasks.6.hm.0.bias, bbox_head.tasks.6.dim.1.running_mean, bbox_head.tasks.6.height.1.bias, bbox_head.tasks.6.rot.1.running_var, bbox_head.tasks.6.reg.1.weight, bbox_head.tasks.6.hm.1.running_mean, bbox_head.tasks.6.rot.1.weight, bbox_head.tasks.6.hm.3.weight, bbox_head.tasks.6.hm.0.weight, bbox_head.tasks.6.vel.3.bias, bbox_head.tasks.6.vel.1.bias, bbox_head.tasks.6.vel.0.weight, bbox_head.tasks.6.height.3.bias, bbox_head.tasks.6.vel.1.weight, bbox_head.tasks.6.reg.3.weight, bbox_head.tasks.6.reg.1.bias, bbox_head.tasks.6.height.0.bias, bbox_head.tasks.6.height.3.weight, bbox_head.tasks.6.height.1.running_var, bbox_head.tasks.6.dim.3.weight, bbox_head.tasks.6.hm.1.running_var, bbox_head.tasks.6.height.1.running_mean, bbox_head.tasks.6.vel.3.weight, bbox_head.tasks.6.reg.0.weight, bbox_head.tasks.6.hm.1.bias, bbox_head.tasks.6.vel.0.bias, bbox_head.tasks.6.dim.3.bias, bbox_head.tasks.6.dim.1.weight, bbox_head.tasks.6.height.0.weight, bbox_head.tasks.6.height.1.weight, bbox_head.tasks.6.rot.0.weight, bbox_head.tasks.6.reg.3.bias, bbox_head.tasks.6.rot.1.running_mean, bbox_head.tasks.6.rot.3.weight\n",
      "\n",
      "these keys have mismatched shape:\n",
      "+-------------------------------+------------------------------+------------------------------+\n",
      "| key                           | expected shape               | loaded shape                 |\n",
      "+-------------------------------+------------------------------+------------------------------+\n",
      "| backbone.conv_input.0.weight  | torch.Size([16, 3, 3, 3, 4]) | torch.Size([3, 3, 3, 5, 16]) |\n",
      "| bbox_head.tasks.1.hm.3.weight | torch.Size([1, 64, 3, 3])    | torch.Size([2, 64, 3, 3])    |\n",
      "| bbox_head.tasks.1.hm.3.bias   | torch.Size([1])              | torch.Size([2])              |\n",
      "| bbox_head.tasks.2.hm.3.weight | torch.Size([1, 64, 3, 3])    | torch.Size([2, 64, 3, 3])    |\n",
      "| bbox_head.tasks.2.hm.3.bias   | torch.Size([1])              | torch.Size([2])              |\n",
      "| bbox_head.tasks.4.hm.3.weight | torch.Size([1, 64, 3, 3])    | torch.Size([2, 64, 3, 3])    |\n",
      "| bbox_head.tasks.4.hm.3.bias   | torch.Size([1])              | torch.Size([2])              |\n",
      "| bbox_head.tasks.5.hm.3.weight | torch.Size([1, 64, 3, 3])    | torch.Size([2, 64, 3, 3])    |\n",
      "| bbox_head.tasks.5.hm.3.bias   | torch.Size([1])              | torch.Size([2])              |\n",
      "+-------------------------------+------------------------------+------------------------------+\n",
      "2023-04-07 01:41:47,624 - INFO - work dir: /data/kimgh/CenterPoint-custom/CenterPoint-static/result/radar/normal\n",
      "[                              ] 0/330, elapsed: 0s, ETA:/home/ubuntu/anaconda3/envs/nia48_310/lib/python3.10/site-packages/torch/functional.py:504: UserWarning: torch.meshgrid: in an upcoming release, it will be required to pass the indexing argument. (Triggered internally at ../aten/src/ATen/native/TensorShape.cpp:3483.)\n",
      "  return _VF.meshgrid(tensors, **kwargs)  # type: ignore[attr-defined]\n",
      "[>>>>>>>>>>>>>>>>>>>>>>>>>>>>>>] 330/330, 12.4 task/s, elapsed: 27s, ETA:     0s\n",
      " Total time per frame:  0.06209597154097123\n",
      "Finish generate predictions for testset, save to /data/kimgh/CenterPoint-custom/CenterPoint-static/result/radar/normal/infos_test_normal_filter_True_radar.json\n",
      "Initializing nuScenes detection evaluation\n",
      "Loaded results from /data/kimgh/CenterPoint-custom/CenterPoint-static/result/radar/normal/infos_test_normal_filter_True_radar.json. Found detections for 330 samples.\n",
      "Loaded ground truth annotations for 330 samples.\n",
      "Accumulating metric data...\n",
      "Calculating metrics...\n",
      "Rendering PR and TP curves\n",
      "Saving metrics to: /data/kimgh/CenterPoint-custom/CenterPoint-static/result/radar/normal\n",
      "mAP: 0.0000\n",
      "mATE: 1.0000\n",
      "mASE: 1.0000\n",
      "mAOE: 1.0000\n",
      "mAVE: 1.0000\n",
      "mAAE: 1.0000\n",
      "NDS: 0.0000\n",
      "Eval time: 0.8s\n",
      "\n",
      "Per-class results:\n",
      "Object Class\tAP\tATE\tASE\tAOE\tAVE\tAAE\n",
      "car\t0.000\t1.000\t1.000\t1.000\t1.000\t1.000\n",
      "truck\t0.000\t1.000\t1.000\t1.000\t1.000\t1.000\n",
      "bus\t0.000\t1.000\t1.000\t1.000\t1.000\t1.000\n",
      "trailer\t0.000\t1.000\t1.000\t1.000\t1.000\t1.000\n",
      "construction_vehicle\t0.000\t1.000\t1.000\t1.000\t1.000\t1.000\n",
      "pedestrian\t0.000\t1.000\t1.000\t1.000\t1.000\t1.000\n",
      "motorcycle\t0.000\t1.000\t1.000\t1.000\t1.000\t1.000\n",
      "bicycle\t0.000\t1.000\t1.000\t1.000\t1.000\t1.000\n",
      "traffic_cone\t0.000\t1.000\t1.000\tnan\tnan\tnan\n",
      "barrier\t0.000\t1.000\t1.000\t1.000\tnan\tnan\n",
      "median_strip\t0.000\t1.000\t1.000\t1.000\t1.000\t1.000\n",
      "sound_barrier\t0.000\t1.000\t1.000\t1.000\t1.000\t1.000\n",
      "overpass\t0.000\t1.000\t1.000\t1.000\t1.000\t1.000\n",
      "tunnel\t0.000\t1.000\t1.000\t1.000\t1.000\t1.000\n",
      "street_trees\t0.000\t1.000\t1.000\t1.000\t1.000\t1.000\n",
      "road_sign\t0.000\t1.000\t1.000\t1.000\t1.000\t1.000\n",
      "ramp_sect\t0.000\t1.000\t1.000\t1.000\t1.000\t1.000\n",
      "Evaluation nusc: Nusc v1.0-trainval Evaluation\n",
      "median_strip Nusc dist AP@2.0, 4.0\n",
      "0.00, 0.00 mean AP: 0.0\n",
      "road_sign Nusc dist AP@2.0, 4.0\n",
      "0.00, 0.00 mean AP: 0.0\n",
      "ramp_sect Nusc dist AP@2.0, 4.0\n",
      "0.00, 0.00 mean AP: 0.0\n",
      "sound_barrier Nusc dist AP@2.0, 4.0\n",
      "0.00, 0.00 mean AP: 0.0\n",
      "overpass Nusc dist AP@2.0, 4.0\n",
      "0.00, 0.00 mean AP: 0.0\n",
      "tunnel Nusc dist AP@2.0, 4.0\n",
      "0.00, 0.00 mean AP: 0.0\n",
      "street_trees Nusc dist AP@2.0, 4.0\n",
      "0.00, 0.00 mean AP: 0.0\n",
      "\n"
     ]
    }
   ],
   "source": [
    "# radar-normal\n",
    "\n",
    "%cd /data/kimgh/CenterPoint-custom/CenterPoint-static\n",
    "\n",
    "config = '/data/kimgh/CenterPoint-custom/CenterPoint-static/configs/nia/radar/nia_centerpoint_voxelnet_01voxel_radar_normal.py'\n",
    "work_dir = '/data/kimgh/CenterPoint-custom/CenterPoint-static/result/radar/normal'\n",
    "checkpoint = '/data/kimgh/CenterPoint-custom/CenterPoint-static/weights/nia_centerpoint_static_radar.pth'\n",
    "sensor = 'radar'\n",
    "\n",
    "!CUDA_VISIBLE_DEVICES=0 python dist_test.py --config {config} --work_dir {work_dir} --checkpoint {checkpoint} --sensor {sensor} --speed_test"
   ]
  },
  {
   "cell_type": "code",
   "execution_count": null,
   "metadata": {},
   "outputs": [],
   "source": [
    "# radar-abnormal\n",
    "\n",
    "%cd /data/kimgh/CenterPoint-custom/CenterPoint-static\n",
    "\n",
    "config = '/data/kimgh/CenterPoint-custom/CenterPoint-static/configs/nia/radar/nia_centerpoint_voxelnet_01voxel_radar_abnormal.py'\n",
    "work_dir = '/data/kimgh/CenterPoint-custom/CenterPoint-static/result/radar/abnormal'\n",
    "checkpoint = '/data/kimgh/CenterPoint-custom/CenterPoint-static/weights/nia_centerpoint_static_radar.pth'\n",
    "\n",
    "!CUDA_VISIBLE_DEVICES=3 python dist_test.py --config {config} --work_dir {work_dir} --checkpoint {checkpoint} --speed_test"
   ]
  },
  {
   "cell_type": "code",
   "execution_count": 65,
   "metadata": {},
   "outputs": [
    {
     "data": {
      "text/plain": [
       "({'lidar_path': '/data/kimgh/CenterPoint-custom/CenterPoint-static/data/test/source/abnormal/11/A_Clip_00073_11/Lidar/2-048_00073_LR_001.pcd',\n",
       "  'cam_front_path': '/data/kimgh/CenterPoint-custom/CenterPoint-static/data/test/source/abnormal/11/A_Clip_00073_11/Camera/CameraFront/blur/2-048_00073_CF_001.png',\n",
       "  'anno_path': '/data/kimgh/CenterPoint-custom/CenterPoint-static/data/test/label/abnormal/11/A_Clip_00073_11/result/2-048_00073_FC_001.json',\n",
       "  'calib_path': '/data/kimgh/CenterPoint-custom/CenterPoint-static/data/test/source/abnormal/11/A_Clip_00073_11/calib/Lidar_radar_calib/2-048_00073_LRC_RF.txt',\n",
       "  'token': '/data/kimgh/CenterPoint-custom/CenterPoint-static/data/test/source/abnormal/11/A_Clip_00073_11/Lidar/2-048_00073_LR_001',\n",
       "  'sweeps': [],\n",
       "  'gt_boxes': array([[23.79347889,  6.4424045 , -1.251     ,  2.        , 44.16      ,\n",
       "           1.498     ,  0.        ,  0.        , -1.55079633],\n",
       "         [45.55663667, -6.16289907, -0.649     ,  2.        , 88.336     ,\n",
       "           2.502     ,  0.        ,  0.        , -1.55079633]]),\n",
       "  'gt_boxes_velocity': array([[0., 0., 0.],\n",
       "         [0., 0., 0.]]),\n",
       "  'gt_names': array(['median_strip', 'sound_barrier'], dtype='<U13'),\n",
       "  'gt_boxes_token': array([1, 3])},\n",
       " {'lidar_path': '/data/kimgh/CenterPoint-custom/CenterPoint-static/data_temp/test/source/abnormal/11/A_Clip_00073_11/Radar/RadarFront/2-048_00073_RF_001.pcd',\n",
       "  'cam_front_path': '/data/kimgh/CenterPoint-custom/CenterPoint-static/data_temp/test/source/abnormal/11/A_Clip_00073_11/Camera/CameraFront/blur/2-048_00073_CF_001.png',\n",
       "  'anno_path': '/data/kimgh/CenterPoint-custom/CenterPoint-static/data_temp/test/label/abnormal/11/A_Clip_00073_11/result/2-048_00073_FC_001.json',\n",
       "  'calib_path': '/data/kimgh/CenterPoint-custom/CenterPoint-static/data_temp/test/source/abnormal/11/A_Clip_00073_11/calib/Lidar_radar_calib/2-048_00073_LRC_RF.txt',\n",
       "  'token': '/data/kimgh/CenterPoint-custom/CenterPoint-static/data_temp/test/source/abnormal/11/A_Clip_00073_11/Radar/RadarFront/2-048_00073_RF_001',\n",
       "  'sweeps': [],\n",
       "  'gt_boxes': array([[23.79347889,  6.4424045 , -1.251     ,  2.        , 44.16      ,\n",
       "           1.498     ,  0.        ,  0.        , -1.55079633],\n",
       "         [45.55663667, -6.16289907, -0.649     ,  2.        , 88.336     ,\n",
       "           2.502     ,  0.        ,  0.        , -1.55079633]]),\n",
       "  'gt_boxes_velocity': array([[0., 0., 0.],\n",
       "         [0., 0., 0.]]),\n",
       "  'gt_names': array(['median_strip', 'sound_barrier'], dtype='<U13'),\n",
       "  'gt_boxes_token': array([1, 3])})"
      ]
     },
     "execution_count": 65,
     "metadata": {},
     "output_type": "execute_result"
    }
   ],
   "source": [
    "import pickle\n",
    "\n",
    "with open('/data/kimgh/CenterPoint-custom/CenterPoint-static/data/infos_test_abnormal_filter_True_lidar.pkl', 'rb') as f:\n",
    "    lidar = pickle.load(f)\n",
    "\n",
    "with open('/data/kimgh/CenterPoint-custom/CenterPoint-static/data_temp/infos_test_abnormal_filter_True_radar.pkl', 'rb') as f:\n",
    "    radar = pickle.load(f)\n",
    "\n",
    "lidar[0], radar[0]"
   ]
  },
  {
   "cell_type": "code",
   "execution_count": 64,
   "metadata": {},
   "outputs": [
    {
     "data": {
      "text/plain": [
       "array([[ 0.        ,  0.        ,  0.        ,  0.        ],\n",
       "       [ 0.        ,  0.        ,  0.        ,  0.        ],\n",
       "       [ 0.        ,  0.        ,  0.        ,  0.        ],\n",
       "       ...,\n",
       "       [-4.7215776 , -0.0791171 , -2.0699713 ,  4.        ],\n",
       "       [-4.6367145 , -0.2624787 , -2.0783947 ,  4.        ],\n",
       "       [-4.4518914 , -0.24578106, -2.080061  ,  5.        ]],\n",
       "      dtype=float32)"
      ]
     },
     "execution_count": 64,
     "metadata": {},
     "output_type": "execute_result"
    }
   ],
   "source": [
    "import open3d as o3d\n",
    "import numpy as np\n",
    "\n",
    "\n",
    "point_src = lidar[0]['lidar_path']\n",
    "# point_dst = f'{dst}/points/{scene}_{frame}.npy'\n",
    "\n",
    "pcd = o3d.t.io.read_point_cloud(point_src)\n",
    "positions = pcd.point.positions.numpy()\n",
    "intensity = pcd.point.intensity.numpy()\n",
    "# positions[:, 2] += frame_data['mov_point_z'].values[0]\n",
    "\n",
    "pcd = np.concatenate((positions, intensity), axis = 1)\n",
    "\n",
    "pcd"
   ]
  }
 ],
 "metadata": {
  "kernelspec": {
   "display_name": "nia48_310",
   "language": "python",
   "name": "python3"
  },
  "language_info": {
   "codemirror_mode": {
    "name": "ipython",
    "version": 3
   },
   "file_extension": ".py",
   "mimetype": "text/x-python",
   "name": "python",
   "nbconvert_exporter": "python",
   "pygments_lexer": "ipython3",
   "version": "3.10.10"
  },
  "orig_nbformat": 4
 },
 "nbformat": 4,
 "nbformat_minor": 2
}
