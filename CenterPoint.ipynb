{
 "cells": [
  {
   "attachments": {},
   "cell_type": "markdown",
   "metadata": {},
   "source": [
    "# # setup\n",
    "---"
   ]
  },
  {
   "cell_type": "code",
   "execution_count": null,
   "metadata": {},
   "outputs": [],
   "source": [
    "%cd /data/kimgh/CenterPoint-custom/CenterPoint-static/det3d/ops/iou3d_nms\n",
    "\n",
    "!python setup.py build_ext --inplace"
   ]
  },
  {
   "attachments": {},
   "cell_type": "markdown",
   "metadata": {},
   "source": [
    "# # Prepare data\n",
    "---"
   ]
  },
  {
   "cell_type": "code",
   "execution_count": null,
   "metadata": {},
   "outputs": [],
   "source": [
    "%cd /data/kimgh/CenterPoint\n",
    "\n",
    "!python create_data.py nuscenes_data_prep --root_path '/data/kimgh/CenterPoint/data/nuScenes/' --version 'v1.0-mini' --nsweeps 10"
   ]
  },
  {
   "cell_type": "code",
   "execution_count": null,
   "metadata": {},
   "outputs": [],
   "source": [
    "%cd /data/kimgh/CenterPoint-custom/CenterPoint-dynamic\n",
    "\n",
    "root_path = '/data/kimgh/CenterPoint-custom/CenterPoint-dynamic/data'\n",
    "sensor ='lidar'\n",
    "\n",
    "!python create_data.py nia_data_prep --root_path {root_path} --sensor {sensor}"
   ]
  },
  {
   "cell_type": "code",
   "execution_count": null,
   "metadata": {},
   "outputs": [],
   "source": [
    "%cd /data/kimgh/CenterPoint-custom/CenterPoint-static\n",
    "\n",
    "root_path = '/data/kimgh/CenterPoint-custom/CenterPoint-static/data/lidar'\n",
    "sensor = 'lidar'\n",
    "subsample = 10\n",
    "num_process = 10\n",
    "\n",
    "f'!python create_data.py nia_data_prep --root_path {root_path} --sensor {sensor} --subsample {subsample} --num_process {num_process}'"
   ]
  },
  {
   "cell_type": "code",
   "execution_count": null,
   "metadata": {},
   "outputs": [],
   "source": [
    "%cd /data/kimgh/CenterPoint-custom/CenterPoint-static\n",
    "\n",
    "root_path = '/data/kimgh/CenterPoint-custom/CenterPoint-static/data/selectsub4'\n",
    "sensor = 'radar'\n",
    "subsample = 10\n",
    "num_process = 20\n",
    "\n",
    "f'!python create_data.py nia_data_prep --root_path {root_path} --sensor {sensor} --num_process {num_process}'"
   ]
  },
  {
   "cell_type": "code",
   "execution_count": null,
   "metadata": {},
   "outputs": [],
   "source": [
    "%cd /data/kimgh/CenterPoint-custom/CenterPoint-static\n",
    "\n",
    "root_path = '/data/kimgh/CenterPoint-custom/CenterPoint-static/data/etc/test'\n",
    "sensor = 'lidar'\n",
    "subsample = 10\n",
    "num_process = 10\n",
    "\n",
    "!python create_data.py nia_data_prep --root_path {root_path} --sensor {sensor} --subsample {subsample} --num_process {num_process}"
   ]
  },
  {
   "cell_type": "code",
   "execution_count": null,
   "metadata": {},
   "outputs": [],
   "source": [
    "%cd /data/kimgh/CenterPoint-custom/CenterPoint-static\n",
    "\n",
    "root_path = '/data/kimgh/CenterPoint-custom/CenterPoint-static/data/sample'\n",
    "sensor = 'radar'\n",
    "subsample = False\n",
    "num_process = 10\n",
    "\n",
    "!python create_data.py nia_data_prep --root_path {root_path} --sensor {sensor} --subsample {subsample} --num_process {num_process}"
   ]
  },
  {
   "attachments": {},
   "cell_type": "markdown",
   "metadata": {},
   "source": [
    "# # Train\n",
    "---\n",
    "- pm2 start train_multigpu.sh --interpreter bash --name \"centerpoint_train_lidar\" --no-autorestart -- 4 --config /data/kimgh/CenterPoint-custom/CenterPoint-static/configs/nia/lidar/nia_centerpoint_voxelnet_01voxel_lidar_train.py --work_dir ./result/lidar_1stsub/train --validate\n",
    "\n",
    "- CUDA_VISIBLE_DEVICES=1,2 pm2 start train_multigpu.sh --interpreter bash --name \"centerpoint_train_radar\" --no-autorestart -- 2 --config /data/kimgh/CenterPoint-custom/CenterPoint-static/configs/nia/radar/nia_centerpoint_voxelnet_01voxel_radar_train.py --work_dir ./result/selectsub/train/radar --validate"
   ]
  },
  {
   "cell_type": "code",
   "execution_count": null,
   "metadata": {},
   "outputs": [],
   "source": [
    "%cd /data/kimgh/CenterPoint\n",
    "\n",
    "CONFIG_PATH = '/data/kimgh/CenterPoint/configs/nusc/voxelnet/nusc_centerpoint_voxelnet_01voxel.py'\n",
    "work_dir = './result/nusc_centerpoint_voxelnet_01voxel'\n",
    "\n",
    "f'!python -m torch.distributed.launch --nproc_per_node 4 train.py {CONFIG_PATH} --work_dir {work_dir} --validate'"
   ]
  },
  {
   "cell_type": "code",
   "execution_count": 1,
   "metadata": {},
   "outputs": [
    {
     "name": "stdout",
     "output_type": "stream",
     "text": [
      "/data/kimgh/CenterPoint-custom/CenterPoint-static\n"
     ]
    },
    {
     "data": {
      "text/plain": [
       "'!bash train_multigpu.sh 3 --config /data/kimgh/CenterPoint-custom/CenterPoint-static/configs/nia/lidar/nia_centerpoint_voxelnet_01voxel_lidar_train.py --work_dir ./result/selectsub3/train/lidar --validate --resume_from /data/kimgh/CenterPoint-custom/CenterPoint-static/result/selectsub3/train/lidar/latest.pth'"
      ]
     },
     "execution_count": 1,
     "metadata": {},
     "output_type": "execute_result"
    }
   ],
   "source": [
    "%cd /data/kimgh/CenterPoint-custom/CenterPoint-static\n",
    "\n",
    "CONFIG_PATH = '/data/kimgh/CenterPoint-custom/CenterPoint-static/configs/nia/lidar/nia_centerpoint_voxelnet_01voxel_lidar_train.py'\n",
    "work_dir = './result/selectsub3/train/lidar'\n",
    "resume_from = '/data/kimgh/CenterPoint-custom/CenterPoint-static/result/selectsub3/train/lidar/latest.pth'\n",
    "\n",
    "# f'!python -m torch.distributed.launch --nproc_per_node 4 train.py --config {CONFIG_PATH} --work_dir {work_dir} --validate'\n",
    "f'!bash train_multigpu.sh 3 --config {CONFIG_PATH} --work_dir {work_dir} --validate --resume_from {resume_from}'"
   ]
  },
  {
   "cell_type": "code",
   "execution_count": 4,
   "metadata": {},
   "outputs": [
    {
     "name": "stdout",
     "output_type": "stream",
     "text": [
      "/data/kimgh/CenterPoint-custom/CenterPoint-static\n"
     ]
    },
    {
     "data": {
      "text/plain": [
       "'!bash train_multigpu.sh 3 --config /data/kimgh/CenterPoint-custom/CenterPoint-static/configs/nia/radar/nia_centerpoint_voxelnet_01voxel_radar_train.py --work_dir ./result/selectsub4/train/radar --validate --resume_from /data/kimgh/CenterPoint-custom/CenterPoint-static/result/selectsub4/train/radar/latest.pth'"
      ]
     },
     "execution_count": 4,
     "metadata": {},
     "output_type": "execute_result"
    }
   ],
   "source": [
    "%cd /data/kimgh/CenterPoint-custom/CenterPoint-static\n",
    "\n",
    "CONFIG_PATH = '/data/kimgh/CenterPoint-custom/CenterPoint-static/configs/nia/radar/nia_centerpoint_voxelnet_01voxel_radar_train.py'\n",
    "work_dir = './result/selectsub4/train/radar'\n",
    "resume_from = '/data/kimgh/CenterPoint-custom/CenterPoint-static/result/selectsub4/train/radar/latest.pth'\n",
    "\n",
    "# f'!python -m torch.distributed.launch --nproc_per_node 4 train.py --config {CONFIG_PATH} --work_dir {work_dir} --validate'\n",
    "f'!bash train_multigpu.sh 3 --config {CONFIG_PATH} --work_dir {work_dir} --validate --resume_from {resume_from}'"
   ]
  },
  {
   "cell_type": "code",
   "execution_count": null,
   "metadata": {},
   "outputs": [],
   "source": [
    "%cd /data/kimgh/CenterPoint-custom/CenterPoint-dynamic\n",
    "\n",
    "CONFIG_PATH = '/data/kimgh/CenterPoint-custom/CenterPoint-dynamic/configs/nia/lidar/nia_centerpoint_voxelnet_01voxel.py'\n",
    "work_dir = './result/selectsub/train/lidar'\n",
    "\n",
    "!python -m torch.distributed.launch --nproc_per_node 4 train.py --config {CONFIG_PATH} --work_dir {work_dir} --validate"
   ]
  },
  {
   "attachments": {},
   "cell_type": "markdown",
   "metadata": {},
   "source": [
    "# # Validation\n",
    "---"
   ]
  },
  {
   "cell_type": "code",
   "execution_count": 2,
   "metadata": {},
   "outputs": [
    {
     "name": "stdout",
     "output_type": "stream",
     "text": [
      "/data/kimgh/CenterPoint-custom/CenterPoint-static\n"
     ]
    },
    {
     "data": {
      "text/plain": [
       "'!CUDA_VISIBLE_DEVICES=0 python dist_test.py --config /data/kimgh/CenterPoint-custom/CenterPoint-static/configs/nia/lidar/nia_centerpoint_voxelnet_01voxel_lidar_normal.py --work_dir /data/kimgh/CenterPoint-custom/CenterPoint-static/result/selectsub3/test/lidar/normal_epoch70 --checkpoint /data/kimgh/CenterPoint-custom/CenterPoint-static/result/selectsub3/train/lidar/epoch_70.pth --sensor lidar --speed_test'"
      ]
     },
     "execution_count": 2,
     "metadata": {},
     "output_type": "execute_result"
    }
   ],
   "source": [
    "# lidar-normal\n",
    "\n",
    "%cd /data/kimgh/CenterPoint-custom/CenterPoint-static\n",
    "\n",
    "data = 'selectsub3'\n",
    "epoch_num = 70\n",
    "sensor = 'lidar'\n",
    "\n",
    "config = f'/data/kimgh/CenterPoint-custom/CenterPoint-static/configs/nia/{sensor}/nia_centerpoint_voxelnet_01voxel_{sensor}_normal.py'\n",
    "work_dir = f'/data/kimgh/CenterPoint-custom/CenterPoint-static/result/{data}/test/{sensor}/normal_epoch{epoch_num}'\n",
    "checkpoint = f'/data/kimgh/CenterPoint-custom/CenterPoint-static/result/{data}/train/{sensor}/epoch_{epoch_num}.pth'\n",
    "# sensor = 'lidar'\n",
    "\n",
    "# f'!CUDA_VISIBLE_DEVICES=0 python dist_test.py --config {config} --work_dir {work_dir} --checkpoint {checkpoint} --sensor {sensor} --speed_test'\n",
    "f'!CUDA_VISIBLE_DEVICES=0,1,2,3 bash test_multigpu.sh 4 --config {config} --work_dir {work_dir} --checkpoint {checkpoint} --sensor {sensor} --speed_test'"
   ]
  },
  {
   "cell_type": "code",
   "execution_count": null,
   "metadata": {},
   "outputs": [],
   "source": [
    "# lidar-abnormal\n",
    "\n",
    "%cd /data/kimgh/CenterPoint-custom/CenterPoint-static\n",
    "\n",
    "data = 'selectsub3'\n",
    "epoch_num = 36\n",
    "sensor = 'lidar'\n",
    "\n",
    "config = f'/data/kimgh/CenterPoint-custom/CenterPoint-static/configs/nia/{sensor}/nia_centerpoint_voxelnet_01voxel_{sensor}_abnormal.py'\n",
    "work_dir = f'/data/kimgh/CenterPoint-custom/CenterPoint-static/result/{data}/test/{sensor}/abnormal_epoch{epoch_num}'\n",
    "checkpoint = f'/data/kimgh/CenterPoint-custom/CenterPoint-static/result/{data}/train/{sensor}/epoch_{epoch_num}.pth'\n",
    "# sensor = 'lidar'\n",
    "\n",
    "# f'!CUDA_VISIBLE_DEVICES=1 python dist_test.py --config {config} --work_dir {work_dir} --checkpoint {checkpoint} --sensor {sensor} --speed_test'\n",
    "f'!CUDA_VISIBLE_DEVICES=0,1,2,3 bash test_multigpu.sh 4 --config {config} --work_dir {work_dir} --checkpoint {checkpoint} --sensor {sensor} --speed_test'"
   ]
  },
  {
   "cell_type": "code",
   "execution_count": 1,
   "metadata": {},
   "outputs": [
    {
     "name": "stdout",
     "output_type": "stream",
     "text": [
      "/data/kimgh/CenterPoint-custom/CenterPoint-static\n"
     ]
    },
    {
     "data": {
      "text/plain": [
       "'!CUDA_VISIBLE_DEVICES=0,1,2 bash test_multigpu.sh 3 --config /data/kimgh/CenterPoint-custom/CenterPoint-static/configs/nia/radar/nia_centerpoint_voxelnet_01voxel_radar_normal.py --work_dir /data/kimgh/CenterPoint-custom/CenterPoint-static/result/selectsub4/test/radar/normal_epoch18 --checkpoint /data/kimgh/CenterPoint-custom/CenterPoint-static/result/selectsub4/train/radar/epoch_18.pth --sensor radar --speed_test'"
      ]
     },
     "execution_count": 1,
     "metadata": {},
     "output_type": "execute_result"
    }
   ],
   "source": [
    "# radar-normal\n",
    "\n",
    "%cd /data/kimgh/CenterPoint-custom/CenterPoint-static\n",
    "\n",
    "data = 'selectsub4'\n",
    "epoch_num = 18\n",
    "sensor = 'radar'\n",
    "\n",
    "config = f'/data/kimgh/CenterPoint-custom/CenterPoint-static/configs/nia/{sensor}/nia_centerpoint_voxelnet_01voxel_{sensor}_normal.py'\n",
    "work_dir = f'/data/kimgh/CenterPoint-custom/CenterPoint-static/result/{data}/test/{sensor}/normal_epoch{epoch_num}'\n",
    "checkpoint = f'/data/kimgh/CenterPoint-custom/CenterPoint-static/result/{data}/train/{sensor}/epoch_{epoch_num}.pth'\n",
    "\n",
    "# f'!CUDA_VISIBLE_DEVICES=2 python dist_test.py --config {config} --work_dir {work_dir} --checkpoint {checkpoint} --sensor {sensor} --speed_test'\n",
    "f'!CUDA_VISIBLE_DEVICES=0,1,2 bash test_multigpu.sh 3 --config {config} --work_dir {work_dir} --checkpoint {checkpoint} --sensor {sensor} --speed_test'"
   ]
  },
  {
   "cell_type": "code",
   "execution_count": 2,
   "metadata": {},
   "outputs": [
    {
     "name": "stdout",
     "output_type": "stream",
     "text": [
      "/data/kimgh/CenterPoint-custom/CenterPoint-static\n"
     ]
    },
    {
     "data": {
      "text/plain": [
       "'!CUDA_VISIBLE_DEVICES=0,1,2 bash test_multigpu.sh 3 --config /data/kimgh/CenterPoint-custom/CenterPoint-static/configs/nia/radar/nia_centerpoint_voxelnet_01voxel_radar_abnormal.py --work_dir /data/kimgh/CenterPoint-custom/CenterPoint-static/result/selectsub4/test/radar/abnormal_epoch18 --checkpoint /data/kimgh/CenterPoint-custom/CenterPoint-static/result/selectsub4/train/radar/epoch_18.pth --sensor radar --speed_test'"
      ]
     },
     "execution_count": 2,
     "metadata": {},
     "output_type": "execute_result"
    }
   ],
   "source": [
    "# radar-abnormal\n",
    "\n",
    "%cd /data/kimgh/CenterPoint-custom/CenterPoint-static\n",
    "\n",
    "data = 'selectsub4'\n",
    "epoch_num = 18\n",
    "sensor = 'radar'\n",
    "\n",
    "config = f'/data/kimgh/CenterPoint-custom/CenterPoint-static/configs/nia/{sensor}/nia_centerpoint_voxelnet_01voxel_{sensor}_abnormal.py'\n",
    "work_dir = f'/data/kimgh/CenterPoint-custom/CenterPoint-static/result/{data}/test/{sensor}/abnormal_epoch{epoch_num}'\n",
    "checkpoint = f'/data/kimgh/CenterPoint-custom/CenterPoint-static/result/{data}/train/{sensor}/epoch_{epoch_num}.pth'\n",
    "\n",
    "# f'!CUDA_VISIBLE_DEVICES=3 python dist_test.py --config {config} --work_dir {work_dir} --checkpoint {checkpoint} --sensor {sensor} --speed_test'\n",
    "f'!CUDA_VISIBLE_DEVICES=0,1,2 bash test_multigpu.sh 3 --config {config} --work_dir {work_dir} --checkpoint {checkpoint} --sensor {sensor} --speed_test'"
   ]
  }
 ],
 "metadata": {
  "kernelspec": {
   "display_name": "Python 3 (ipykernel)",
   "language": "python",
   "name": "python3"
  },
  "language_info": {
   "codemirror_mode": {
    "name": "ipython",
    "version": 3
   },
   "file_extension": ".py",
   "mimetype": "text/x-python",
   "name": "python",
   "nbconvert_exporter": "python",
   "pygments_lexer": "ipython3",
   "version": "3.9.0"
  },
  "orig_nbformat": 4
 },
 "nbformat": 4,
 "nbformat_minor": 2
}
