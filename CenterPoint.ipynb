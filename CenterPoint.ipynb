{
 "cells": [
  {
   "cell_type": "code",
   "execution_count": null,
   "metadata": {},
   "outputs": [],
   "source": [
    "import numpy as np"
   ]
  },
  {
   "cell_type": "markdown",
   "metadata": {},
   "source": [
    "# # setup\n",
    "---"
   ]
  },
  {
   "cell_type": "code",
   "execution_count": null,
   "metadata": {},
   "outputs": [],
   "source": [
    "%cd /data/kimgh/CenterPoint-static/det3d/ops/iou3d_nms\n",
    "\n",
    "!python setup.py build_ext --inplace"
   ]
  },
  {
   "cell_type": "markdown",
   "metadata": {},
   "source": [
    "# # Prepare data\n",
    "---"
   ]
  },
  {
   "cell_type": "code",
   "execution_count": null,
   "metadata": {},
   "outputs": [],
   "source": [
    "%cd /data/kimgh/CenterPoint\n",
    "\n",
    "!python create_data.py nuscenes_data_prep --root_path '/data/kimgh/CenterPoint/data/nuScenes/' --version 'v1.0-mini' --nsweeps 10"
   ]
  },
  {
   "cell_type": "code",
   "execution_count": null,
   "metadata": {},
   "outputs": [],
   "source": [
    "%cd /data/kimgh/CenterPoint-custom/CenterPoint-dynamic\n",
    "\n",
    "root_path = '/data/kimgh/CenterPoint-custom/CenterPoint-dynamic/data'\n",
    "sensor ='lidar'\n",
    "\n",
    "!python create_data.py nia_data_prep --root_path {root_path} --sensor {sensor}"
   ]
  },
  {
   "cell_type": "code",
   "execution_count": null,
   "metadata": {},
   "outputs": [],
   "source": [
    "%cd /data/kimgh/CenterPoint-custom/CenterPoint-static\n",
    "\n",
    "root_path = '/data/kimgh/CenterPoint-custom/CenterPoint-static/data/lidar_allsub'\n",
    "sensor = 'lidar'\n",
    "\n",
    "!python create_data.py nia_data_prep --root_path {root_path} --sensor {sensor}"
   ]
  },
  {
   "cell_type": "code",
   "execution_count": 253,
   "metadata": {},
   "outputs": [
    {
     "name": "stdout",
     "output_type": "stream",
     "text": [
      "/data/kimgh/CenterPoint-custom/CenterPoint-static\n"
     ]
    },
    {
     "data": {
      "text/plain": [
       "'!python create_data.py nia_data_prep --root_path /data/kimgh/CenterPoint-custom/CenterPoint-static/data/sample --sensor lidar --num_process 20'"
      ]
     },
     "execution_count": 253,
     "metadata": {},
     "output_type": "execute_result"
    }
   ],
   "source": [
    "%cd /data/kimgh/CenterPoint-custom/CenterPoint-static\n",
    "\n",
    "root_path = '/data/kimgh/CenterPoint-custom/CenterPoint-static/data/sample'\n",
    "sensor = 'lidar'\n",
    "num_process = 10\n",
    "\n",
    "f'!python create_data.py nia_data_prep --root_path {root_path} --sensor {sensor} --num_process {num_process}'"
   ]
  },
  {
   "attachments": {},
   "cell_type": "markdown",
   "metadata": {},
   "source": [
    "# # Train\n",
    "---\n",
    "- pm2 start train_multigpu.sh --interpreter bash --name \"centerpoint_train_lidar\" --no-autorestart -- 3 --config /data/kimgh/CenterPoint-custom/CenterPoint-static/configs/nia/lidar/nia_centerpoint_voxelnet_01voxel_lidar_train.py --work_dir ./result/lidar_allsub/train --validate\n",
    "\n",
    "- CUDA_VISIBLE_DEVICES=0,1,2,3 pm2 start train_multigpu.sh --interpreter bash --name \"centerpoint_train_radar\" --no-autorestart -- 4 --config /data/kimgh/CenterPoint-custom/CenterPoint-static/configs/nia/radar/nia_centerpoint_voxelnet_01voxel_radar_train.py --work_dir ./result/radar_allsub/train --validate"
   ]
  },
  {
   "cell_type": "code",
   "execution_count": null,
   "metadata": {},
   "outputs": [],
   "source": [
    "%cd /data/kimgh/CenterPoint\n",
    "\n",
    "CONFIG_PATH = '/data/kimgh/CenterPoint/configs/nusc/voxelnet/nusc_centerpoint_voxelnet_01voxel.py'\n",
    "work_dir = './result/nusc_centerpoint_voxelnet_01voxel'\n",
    "\n",
    "f'!python -m torch.distributed.launch --nproc_per_node 4 train.py {CONFIG_PATH} --work_dir {work_dir} --validate'"
   ]
  },
  {
   "cell_type": "code",
   "execution_count": null,
   "metadata": {},
   "outputs": [],
   "source": [
    "%cd /data/kimgh/CenterPoint-custom/CenterPoint-static\n",
    "\n",
    "CONFIG_PATH = '/data/kimgh/CenterPoint-custom/CenterPoint-static/configs/nia/lidar/nia_centerpoint_voxelnet_01voxel_lidar_normal.py'\n",
    "work_dir = './result/lidar/train'\n",
    "\n",
    "!python train.py --config {CONFIG_PATH} --work_dir {work_dir} --validate"
   ]
  },
  {
   "cell_type": "code",
   "execution_count": null,
   "metadata": {},
   "outputs": [],
   "source": [
    "%cd /data/kimgh/CenterPoint-custom/CenterPoint-static\n",
    "\n",
    "CONFIG_PATH = '/data/kimgh/CenterPoint-custom/CenterPoint-static/configs/nia/lidar/nia_centerpoint_voxelnet_01voxel_lidar_train.py'\n",
    "work_dir = './result/lidar_allsub/train'\n",
    "\n",
    "f'!python -m torch.distributed.launch --nproc_per_node 4 train.py --config {CONFIG_PATH} --work_dir {work_dir} --validate'"
   ]
  },
  {
   "cell_type": "code",
   "execution_count": null,
   "metadata": {},
   "outputs": [],
   "source": [
    "%cd /data/kimgh/CenterPoint-custom/CenterPoint-dynamic\n",
    "\n",
    "CONFIG_PATH = '/data/kimgh/CenterPoint-custom/CenterPoint-dynamic/configs/nia/lidar/nia_centerpoint_voxelnet_01voxel.py'\n",
    "work_dir = './result/lidar/train'\n",
    "\n",
    "!python -m torch.distributed.launch --nproc_per_node 4 train.py --config {CONFIG_PATH} --work_dir {work_dir} --validate"
   ]
  },
  {
   "cell_type": "markdown",
   "metadata": {},
   "source": [
    "# # Validation\n",
    "---"
   ]
  },
  {
   "cell_type": "code",
   "execution_count": null,
   "metadata": {},
   "outputs": [],
   "source": [
    "# lidar-normal\n",
    "\n",
    "%cd /data/kimgh/CenterPoint-custom/CenterPoint-static\n",
    "\n",
    "config = '/data/kimgh/CenterPoint-custom/CenterPoint-static/configs/nia/lidar/nia_centerpoint_voxelnet_01voxel_lidar_normal.py'\n",
    "work_dir = '/data/kimgh/CenterPoint-custom/CenterPoint-static/result/lidar/normal_allsubid'\n",
    "checkpoint = '/data/kimgh/CenterPoint-custom/CenterPoint-static/weights/nia_centerpoint_static_lidar.pth'\n",
    "sensor = 'lidar'\n",
    "\n",
    "f'!CUDA_VISIBLE_DEVICES=1 python dist_test.py --config {config} --work_dir {work_dir} --checkpoint {checkpoint} --sensor {sensor} --speed_test' "
   ]
  },
  {
   "cell_type": "code",
   "execution_count": null,
   "metadata": {},
   "outputs": [],
   "source": [
    "# lidar-abnormal\n",
    "\n",
    "%cd /data/kimgh/CenterPoint-custom/CenterPoint-static\n",
    "\n",
    "config = '/data/kimgh/CenterPoint-custom/CenterPoint-static/configs/nia/lidar/nia_centerpoint_voxelnet_01voxel_lidar_abnormal.py'\n",
    "work_dir = '/data/kimgh/CenterPoint-custom/CenterPoint-static/result/lidar/abnormal_allsubid'\n",
    "checkpoint = '/data/kimgh/CenterPoint-custom/CenterPoint-static/weights/nia_centerpoint_static_lidar.pth'\n",
    "sensor = 'lidar'\n",
    "\n",
    "f'!CUDA_VISIBLE_DEVICES=2 python dist_test.py --config {config} --work_dir {work_dir} --checkpoint {checkpoint} --sensor {sensor} --speed_test'"
   ]
  },
  {
   "cell_type": "code",
   "execution_count": null,
   "metadata": {},
   "outputs": [],
   "source": [
    "# radar-normal\n",
    "\n",
    "%cd /data/kimgh/CenterPoint-custom/CenterPoint-static\n",
    "\n",
    "config = '/data/kimgh/CenterPoint-custom/CenterPoint-static/configs/nia/radar/nia_centerpoint_voxelnet_01voxel_radar.py'\n",
    "work_dir = '/data/kimgh/CenterPoint-custom/CenterPoint-static/result/radar/normal'\n",
    "checkpoint = '/data/kimgh/CenterPoint-custom/CenterPoint-static/weights/nia_centerpoint_static_radar.pth'\n",
    "sensor = 'radar'\n",
    "\n",
    "!CUDA_VISIBLE_DEVICES=0 python dist_test.py --config {config} --work_dir {work_dir} --checkpoint {checkpoint} --sensor {sensor} --speed_test"
   ]
  },
  {
   "cell_type": "code",
   "execution_count": null,
   "metadata": {},
   "outputs": [],
   "source": [
    "# radar-abnormal\n",
    "\n",
    "%cd /data/kimgh/CenterPoint-custom/CenterPoint-static\n",
    "\n",
    "config = '/data/kimgh/CenterPoint-custom/CenterPoint-static/configs/nia/radar/nia_centerpoint_voxelnet_01voxel_radar_abnormal.py'\n",
    "work_dir = '/data/kimgh/CenterPoint-custom/CenterPoint-static/result/radar/abnormal'\n",
    "checkpoint = '/data/kimgh/CenterPoint-custom/CenterPoint-static/weights/nia_centerpoint_static_radar.pth'\n",
    "\n",
    "!CUDA_VISIBLE_DEVICES=3 python dist_test.py --config {config} --work_dir {work_dir} --checkpoint {checkpoint} --speed_test"
   ]
  }
 ],
 "metadata": {
  "kernelspec": {
   "display_name": "nia48_310",
   "language": "python",
   "name": "python3"
  },
  "language_info": {
   "codemirror_mode": {
    "name": "ipython",
    "version": 3
   },
   "file_extension": ".py",
   "mimetype": "text/x-python",
   "name": "python",
   "nbconvert_exporter": "python",
   "pygments_lexer": "ipython3",
   "version": "3.10.10"
  },
  "orig_nbformat": 4
 },
 "nbformat": 4,
 "nbformat_minor": 2
}
