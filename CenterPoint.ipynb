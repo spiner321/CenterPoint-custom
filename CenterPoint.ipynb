{
 "cells": [
  {
   "cell_type": "markdown",
   "metadata": {},
   "source": [
    "# # setup\n",
    "---"
   ]
  },
  {
   "cell_type": "code",
   "execution_count": null,
   "metadata": {},
   "outputs": [],
   "source": [
    "%cd /data/kimgh/CenterPoint-static/det3d/ops/iou3d_nms\n",
    "\n",
    "!python setup.py build_ext --inplace"
   ]
  },
  {
   "cell_type": "markdown",
   "metadata": {},
   "source": [
    "# # Prepare data\n",
    "---"
   ]
  },
  {
   "cell_type": "code",
   "execution_count": null,
   "metadata": {},
   "outputs": [],
   "source": [
    "%cd /data/kimgh/CenterPoint\n",
    "\n",
    "!python create_data.py nuscenes_data_prep --root_path '/data/kimgh/CenterPoint/data/nuScenes/' --version 'v1.0-mini' --nsweeps 10"
   ]
  },
  {
   "cell_type": "code",
   "execution_count": null,
   "metadata": {},
   "outputs": [],
   "source": [
    "%cd /data/kimgh/CenterPoint-custom/CenterPoint-dynamic\n",
    "\n",
    "root_path = '/data/kimgh/CenterPoint-custom/CenterPoint-dynamic/data'\n",
    "sensor ='lidar'\n",
    "\n",
    "!python create_data.py nia_data_prep --root_path {root_path} --sensor {sensor}"
   ]
  },
  {
   "cell_type": "code",
   "execution_count": 3,
   "metadata": {},
   "outputs": [
    {
     "name": "stdout",
     "output_type": "stream",
     "text": [
      "/data/kimgh/CenterPoint-custom/CenterPoint-static\n"
     ]
    },
    {
     "data": {
      "text/plain": [
       "'!python create_data.py nia_data_prep --root_path /data/kimgh/CenterPoint-custom/CenterPoint-static/data/lidar --sensor lidar --subsample 10 --num_process 10'"
      ]
     },
     "execution_count": 3,
     "metadata": {},
     "output_type": "execute_result"
    }
   ],
   "source": [
    "%cd /data/kimgh/CenterPoint-custom/CenterPoint-static\n",
    "\n",
    "root_path = '/data/kimgh/CenterPoint-custom/CenterPoint-static/data/lidar'\n",
    "sensor = 'lidar'\n",
    "subsample = 10\n",
    "num_process = 10\n",
    "\n",
    "f'!python create_data.py nia_data_prep --root_path {root_path} --sensor {sensor} --subsample {subsample} --num_process {num_process}'"
   ]
  },
  {
   "cell_type": "code",
   "execution_count": 4,
   "metadata": {},
   "outputs": [
    {
     "name": "stdout",
     "output_type": "stream",
     "text": [
      "/data/kimgh/CenterPoint-custom/CenterPoint-static\n"
     ]
    },
    {
     "data": {
      "text/plain": [
       "'!python create_data.py nia_data_prep --root_path /data/kimgh/CenterPoint-custom/CenterPoint-static/data/radar --sensor radar --subsample 10 --num_process 10'"
      ]
     },
     "execution_count": 4,
     "metadata": {},
     "output_type": "execute_result"
    }
   ],
   "source": [
    "%cd /data/kimgh/CenterPoint-custom/CenterPoint-static\n",
    "\n",
    "root_path = '/data/kimgh/CenterPoint-custom/CenterPoint-static/data/radar'\n",
    "sensor = 'radar'\n",
    "subsample = 10\n",
    "num_process = 10\n",
    "\n",
    "f'!python create_data.py nia_data_prep --root_path {root_path} --sensor {sensor} --subsample {subsample} --num_process {num_process}'"
   ]
  },
  {
   "cell_type": "code",
   "execution_count": 7,
   "metadata": {},
   "outputs": [
    {
     "name": "stdout",
     "output_type": "stream",
     "text": [
      "/data/kimgh/CenterPoint-custom/CenterPoint-static\n",
      "no apex\n",
      "2023-04-26 12:08:40.676471: I tensorflow/core/platform/cpu_feature_guard.cc:182] This TensorFlow binary is optimized to use available CPU instructions in performance-critical operations.\n",
      "To enable the following instructions: AVX2 FMA, in other operations, rebuild TensorFlow with the appropriate compiler flags.\n",
      "2023-04-26 12:08:41.645617: W tensorflow/compiler/tf2tensorrt/utils/py_utils.cc:38] TF-TRT Warning: Could not find TensorRT\n",
      "No Tensorflow\n",
      "exist train frames: 56 exist val frames: 56 exist test_nomal frames: 30 exist test_abnormal frames: 26\n",
      "100%|███████████████████████████████████████████| 56/56 [00:01<00:00, 53.91it/s]\n",
      "100%|██████████████████████████████████████████| 56/56 [00:00<00:00, 645.71it/s]\n",
      "100%|██████████████████████████████████████████| 30/30 [00:00<00:00, 705.86it/s]\n",
      "100%|██████████████████████████████████████████| 26/26 [00:00<00:00, 761.06it/s]\n",
      "1\n",
      "------------------------------------\n",
      "/data/kimgh/CenterPoint-custom/CenterPoint-static/data/sample/infos_train_filter_True_lidar.pkl\n",
      "------------------------------------\n",
      "100%|█████████████████████████████████████████████| 5/5 [00:04<00:00,  1.05it/s]\n",
      "100%|█████████████████████████████████████████████| 5/5 [00:04<00:00,  1.05it/s]\n",
      "100%|█████████████████████████████████████████████| 5/5 [00:05<00:00,  1.01s/it]\n",
      "100%|█████████████████████████████████████████████| 5/5 [00:05<00:00,  1.04s/it]\n",
      "100%|█████████████████████████████████████████████| 5/5 [00:05<00:00,  1.04s/it]\n",
      "100%|█████████████████████████████████████████████| 5/5 [00:05<00:00,  1.06s/it]\n",
      "100%|█████████████████████████████████████████████| 5/5 [00:05<00:00,  1.08s/it]\n",
      "100%|█████████████████████████████████████████████| 5/5 [00:05<00:00,  1.11s/it]\n",
      "100%|█████████████████████████████████████████████| 5/5 [00:05<00:00,  1.11s/it]\n",
      "100%|█████████████████████████████████████████████| 5/5 [00:05<00:00,  1.19s/it]\n",
      "100%|█████████████████████████████████████████████| 5/5 [00:02<00:00,  1.70it/s]\n",
      "reindexing group_id: 100%|███████████████████| 11/11 [00:00<00:00, 51665.56it/s]\n",
      "dataset length:  56\n",
      "load 55 median_strip database infos\n",
      "load 13 road_sign database infos\n",
      "load 15 overpass database infos\n",
      "load 21 sound_barrier database infos\n",
      "load 65 street_trees database infos\n"
     ]
    }
   ],
   "source": [
    "%cd /data/kimgh/CenterPoint-custom/CenterPoint-static\n",
    "\n",
    "root_path = '/data/kimgh/CenterPoint-custom/CenterPoint-static/data/sample'\n",
    "sensor = 'lidar'\n",
    "subsample = 10\n",
    "num_process = 10\n",
    "\n",
    "!python create_data.py nia_data_prep --root_path {root_path} --sensor {sensor} --subsample {subsample} --num_process {num_process}"
   ]
  },
  {
   "attachments": {},
   "cell_type": "markdown",
   "metadata": {},
   "source": [
    "# # Train\n",
    "---\n",
    "- pm2 start train_multigpu.sh --interpreter bash --name \"centerpoint_train_lidar\" --no-autorestart -- 4 --config /data/kimgh/CenterPoint-custom/CenterPoint-static/configs/nia/lidar/nia_centerpoint_voxelnet_01voxel_lidar_train.py --work_dir ./result/lidar_1stsub/train --validate\n",
    "\n",
    "- CUDA_VISIBLE_DEVICES=0,1,2,3 pm2 start train_multigpu.sh --interpreter bash --name \"centerpoint_train_radar\" --no-autorestart -- 4 --config /data/kimgh/CenterPoint-custom/CenterPoint-static/configs/nia/radar/nia_centerpoint_voxelnet_01voxel_radar_train.py --work_dir ./result/radar_allsub/train --validate --resume_from /data/kimgh/CenterPoint-custom/CenterPoint-static/result/radar_allsub/train/latest.pth"
   ]
  },
  {
   "cell_type": "code",
   "execution_count": null,
   "metadata": {},
   "outputs": [],
   "source": [
    "%cd /data/kimgh/CenterPoint\n",
    "\n",
    "CONFIG_PATH = '/data/kimgh/CenterPoint/configs/nusc/voxelnet/nusc_centerpoint_voxelnet_01voxel.py'\n",
    "work_dir = './result/nusc_centerpoint_voxelnet_01voxel'\n",
    "\n",
    "f'!python -m torch.distributed.launch --nproc_per_node 4 train.py {CONFIG_PATH} --work_dir {work_dir} --validate'"
   ]
  },
  {
   "cell_type": "code",
   "execution_count": null,
   "metadata": {},
   "outputs": [],
   "source": [
    "%cd /data/kimgh/CenterPoint-custom/CenterPoint-static\n",
    "\n",
    "CONFIG_PATH = '/data/kimgh/CenterPoint-custom/CenterPoint-static/configs/nia/lidar/nia_centerpoint_voxelnet_01voxel_lidar_normal.py'\n",
    "work_dir = './result/lidar/train'\n",
    "\n",
    "!python train.py --config {CONFIG_PATH} --work_dir {work_dir} --validate"
   ]
  },
  {
   "cell_type": "code",
   "execution_count": null,
   "metadata": {},
   "outputs": [],
   "source": [
    "%cd /data/kimgh/CenterPoint-custom/CenterPoint-static\n",
    "\n",
    "CONFIG_PATH = '/data/kimgh/CenterPoint-custom/CenterPoint-static/configs/nia/lidar/nia_centerpoint_voxelnet_01voxel_lidar_train.py'\n",
    "work_dir = './result/lidar_allsub/train'\n",
    "\n",
    "f'!python -m torch.distributed.launch --nproc_per_node 4 train.py --config {CONFIG_PATH} --work_dir {work_dir} --validate'"
   ]
  },
  {
   "cell_type": "code",
   "execution_count": null,
   "metadata": {},
   "outputs": [],
   "source": [
    "%cd /data/kimgh/CenterPoint-custom/CenterPoint-dynamic\n",
    "\n",
    "CONFIG_PATH = '/data/kimgh/CenterPoint-custom/CenterPoint-dynamic/configs/nia/lidar/nia_centerpoint_voxelnet_01voxel.py'\n",
    "work_dir = './result/lidar/train'\n",
    "\n",
    "!python -m torch.distributed.launch --nproc_per_node 4 train.py --config {CONFIG_PATH} --work_dir {work_dir} --validate"
   ]
  },
  {
   "cell_type": "markdown",
   "metadata": {},
   "source": [
    "# # Validation\n",
    "---"
   ]
  },
  {
   "cell_type": "code",
   "execution_count": 1,
   "metadata": {},
   "outputs": [
    {
     "name": "stdout",
     "output_type": "stream",
     "text": [
      "/data/kimgh/CenterPoint-custom/CenterPoint-static\n"
     ]
    },
    {
     "data": {
      "text/plain": [
       "'!CUDA_VISIBLE_DEVICES=3 python dist_test.py --config /data/kimgh/CenterPoint-custom/CenterPoint-static/configs/nia/lidar/nia_centerpoint_voxelnet_01voxel_lidar_normal.py --work_dir /data/kimgh/CenterPoint-custom/CenterPoint-static/result/lidar_1stsub/test/normal_epoch7 --checkpoint /data/kimgh/CenterPoint-custom/CenterPoint-static/result/lidar_1stsub/train/epoch_7.pth --sensor lidar --speed_test'"
      ]
     },
     "execution_count": 1,
     "metadata": {},
     "output_type": "execute_result"
    }
   ],
   "source": [
    "# lidar-normal\n",
    "\n",
    "%cd /data/kimgh/CenterPoint-custom/CenterPoint-static\n",
    "\n",
    "config = '/data/kimgh/CenterPoint-custom/CenterPoint-static/configs/nia/lidar/nia_centerpoint_voxelnet_01voxel_lidar_normal.py'\n",
    "work_dir = '/data/kimgh/CenterPoint-custom/CenterPoint-static/result/lidar_1stsub/test/normal_epoch7'\n",
    "checkpoint = '/data/kimgh/CenterPoint-custom/CenterPoint-static/result/lidar_1stsub/train/epoch_7.pth'\n",
    "sensor = 'lidar'\n",
    "\n",
    "f'!CUDA_VISIBLE_DEVICES=3 python dist_test.py --config {config} --work_dir {work_dir} --checkpoint {checkpoint} --sensor {sensor} --speed_test' "
   ]
  },
  {
   "cell_type": "code",
   "execution_count": 2,
   "metadata": {},
   "outputs": [
    {
     "name": "stdout",
     "output_type": "stream",
     "text": [
      "/data/kimgh/CenterPoint-custom/CenterPoint-static\n"
     ]
    },
    {
     "data": {
      "text/plain": [
       "'!CUDA_VISIBLE_DEVICES=3 python dist_test.py --config /data/kimgh/CenterPoint-custom/CenterPoint-static/configs/nia/lidar/nia_centerpoint_voxelnet_01voxel_lidar_abnormal.py --work_dir /data/kimgh/CenterPoint-custom/CenterPoint-static/result/lidar_1stsub/test/abnormal_epoch3 --checkpoint /data/kimgh/CenterPoint-custom/CenterPoint-static/result/lidar_1stsub/train/epoch_3.pth --sensor lidar --speed_test'"
      ]
     },
     "execution_count": 2,
     "metadata": {},
     "output_type": "execute_result"
    }
   ],
   "source": [
    "# lidar-abnormal\n",
    "\n",
    "%cd /data/kimgh/CenterPoint-custom/CenterPoint-static\n",
    "\n",
    "config = '/data/kimgh/CenterPoint-custom/CenterPoint-static/configs/nia/lidar/nia_centerpoint_voxelnet_01voxel_lidar_abnormal.py'\n",
    "work_dir = '/data/kimgh/CenterPoint-custom/CenterPoint-static/result/lidar_1stsub/test/abnormal_epoch3'\n",
    "checkpoint = '/data/kimgh/CenterPoint-custom/CenterPoint-static/result/lidar_1stsub/train/epoch_3.pth'\n",
    "sensor = 'lidar'\n",
    "\n",
    "f'!CUDA_VISIBLE_DEVICES=3 python dist_test.py --config {config} --work_dir {work_dir} --checkpoint {checkpoint} --sensor {sensor} --speed_test'"
   ]
  },
  {
   "cell_type": "code",
   "execution_count": 264,
   "metadata": {},
   "outputs": [
    {
     "name": "stdout",
     "output_type": "stream",
     "text": [
      "/data/kimgh/CenterPoint-custom/CenterPoint-static\n"
     ]
    },
    {
     "data": {
      "text/plain": [
       "'!bash test_multigpu.sh 4 --config /data/kimgh/CenterPoint-custom/CenterPoint-static/configs/nia/radar/nia_centerpoint_voxelnet_01voxel_radar_normal.py --work_dir /data/kimgh/CenterPoint-custom/CenterPoint-static/result/radar_allsub/test/normal_epoch4 --checkpoint /data/kimgh/CenterPoint-custom/CenterPoint-static/result/radar_allsub/train/epoch_4.pth --sensor radar --speed_test'"
      ]
     },
     "execution_count": 264,
     "metadata": {},
     "output_type": "execute_result"
    }
   ],
   "source": [
    "# radar-normal\n",
    "\n",
    "%cd /data/kimgh/CenterPoint-custom/CenterPoint-static\n",
    "\n",
    "config = '/data/kimgh/CenterPoint-custom/CenterPoint-static/configs/nia/radar/nia_centerpoint_voxelnet_01voxel_radar_normal.py'\n",
    "work_dir = '/data/kimgh/CenterPoint-custom/CenterPoint-static/result/radar_allsub/test/normal_epoch4'\n",
    "checkpoint = '/data/kimgh/CenterPoint-custom/CenterPoint-static/result/radar_allsub/train/epoch_4.pth'\n",
    "sensor = 'radar'\n",
    "\n",
    "# !CUDA_VISIBLE_DEVICES=0 python dist_test.py --config {config} --work_dir {work_dir} --checkpoint {checkpoint} --sensor {sensor} --speed_test\n",
    "f'!bash test_multigpu.sh 4 --config {config} --work_dir {work_dir} --checkpoint {checkpoint} --sensor {sensor} --speed_test'"
   ]
  },
  {
   "cell_type": "code",
   "execution_count": 265,
   "metadata": {},
   "outputs": [
    {
     "name": "stdout",
     "output_type": "stream",
     "text": [
      "/data/kimgh/CenterPoint-custom/CenterPoint-static\n"
     ]
    },
    {
     "data": {
      "text/plain": [
       "'!bash test_multigpu.sh 4 --config /data/kimgh/CenterPoint-custom/CenterPoint-static/configs/nia/radar/nia_centerpoint_voxelnet_01voxel_radar_abnormal.py --work_dir /data/kimgh/CenterPoint-custom/CenterPoint-static/result/radar_allsub/test/abnormal_epoch4 --checkpoint /data/kimgh/CenterPoint-custom/CenterPoint-static/result/radar_allsub/train/epoch_4.pth --sensor radar --speed_test'"
      ]
     },
     "execution_count": 265,
     "metadata": {},
     "output_type": "execute_result"
    }
   ],
   "source": [
    "# radar-abnormal\n",
    "\n",
    "%cd /data/kimgh/CenterPoint-custom/CenterPoint-static\n",
    "\n",
    "config = '/data/kimgh/CenterPoint-custom/CenterPoint-static/configs/nia/radar/nia_centerpoint_voxelnet_01voxel_radar_abnormal.py'\n",
    "work_dir = '/data/kimgh/CenterPoint-custom/CenterPoint-static/result/radar_allsub/test/abnormal_epoch4'\n",
    "checkpoint = '/data/kimgh/CenterPoint-custom/CenterPoint-static/result/radar_allsub/train/epoch_4.pth'\n",
    "sensor = 'radar'\n",
    "\n",
    "# !CUDA_VISIBLE_DEVICES=0 python dist_test.py --config {config} --work_dir {work_dir} --checkpoint {checkpoint} --sensor {sensor} --speed_test\n",
    "f'!bash test_multigpu.sh 4 --config {config} --work_dir {work_dir} --checkpoint {checkpoint} --sensor {sensor} --speed_test'"
   ]
  }
 ],
 "metadata": {
  "kernelspec": {
   "display_name": "nia48_310",
   "language": "python",
   "name": "python3"
  },
  "language_info": {
   "codemirror_mode": {
    "name": "ipython",
    "version": 3
   },
   "file_extension": ".py",
   "mimetype": "text/x-python",
   "name": "python",
   "nbconvert_exporter": "python",
   "pygments_lexer": "ipython3",
   "version": "3.10.10"
  },
  "orig_nbformat": 4
 },
 "nbformat": 4,
 "nbformat_minor": 2
}
