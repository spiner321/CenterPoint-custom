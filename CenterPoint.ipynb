{
 "cells": [
  {
   "cell_type": "code",
   "execution_count": null,
   "metadata": {},
   "outputs": [],
   "source": [
    "import numpy as np"
   ]
  },
  {
   "cell_type": "markdown",
   "metadata": {},
   "source": [
    "# # setup\n",
    "---"
   ]
  },
  {
   "cell_type": "code",
   "execution_count": null,
   "metadata": {},
   "outputs": [],
   "source": [
    "%cd /data/kimgh/CenterPoint-static/det3d/ops/iou3d_nms\n",
    "\n",
    "!python setup.py build_ext --inplace"
   ]
  },
  {
   "cell_type": "markdown",
   "metadata": {},
   "source": [
    "# # Prepare data\n",
    "---"
   ]
  },
  {
   "cell_type": "code",
   "execution_count": null,
   "metadata": {},
   "outputs": [],
   "source": [
    "%cd /data/kimgh/CenterPoint\n",
    "\n",
    "!python create_data.py nuscenes_data_prep --root_path '/data/kimgh/CenterPoint/data/nuScenes/' --version 'v1.0-mini' --nsweeps 10"
   ]
  },
  {
   "cell_type": "code",
   "execution_count": null,
   "metadata": {},
   "outputs": [],
   "source": [
    "%cd /data/kimgh/CenterPoint-dynamic\n",
    "\n",
    "root_path = '/data/kimgh/CenterPoint-NIA/data'\n",
    "\n",
    "!python create_data.py nia_data_prep --root_path {root_path}"
   ]
  },
  {
   "cell_type": "code",
   "execution_count": 7,
   "metadata": {},
   "outputs": [
    {
     "name": "stdout",
     "output_type": "stream",
     "text": [
      "/data/kimgh/CenterPoint-custom/CenterPoint-static\n",
      "no apex\n",
      "2023-04-06 10:30:28.474565: I tensorflow/core/platform/cpu_feature_guard.cc:182] This TensorFlow binary is optimized to use available CPU instructions in performance-critical operations.\n",
      "To enable the following instructions: AVX2 FMA, in other operations, rebuild TensorFlow with the appropriate compiler flags.\n",
      "2023-04-06 10:30:29.450429: W tensorflow/compiler/tf2tensorrt/utils/py_utils.cc:38] TF-TRT Warning: Could not find TensorRT\n",
      "No Tensorflow\n",
      "exist train frames: 549 exist val frames: 549 exist test_nomal frames: 330 exist test_abnormal frames: 0\n",
      "100%|████████████████████████████████████████| 549/549 [00:01<00:00, 466.67it/s]\n",
      "100%|████████████████████████████████████████| 549/549 [00:04<00:00, 127.44it/s]\n",
      "100%|████████████████████████████████████████| 330/330 [00:02<00:00, 132.50it/s]\n",
      "0it [00:00, ?it/s]\n",
      "1\n",
      " 71%|█████████████████████████████▏           | 391/549 [02:26<01:05,  2.41it/s]"
     ]
    }
   ],
   "source": [
    "%cd /data/kimgh/CenterPoint-custom/CenterPoint-static\n",
    "\n",
    "root_path = '/data/kimgh/CenterPoint-custom/CenterPoint-static/data_temp'\n",
    "sensor = 'lidar'\n",
    "\n",
    "!python create_data.py nia_data_prep --root_path {root_path} --sensor {sensor}"
   ]
  },
  {
   "cell_type": "markdown",
   "metadata": {},
   "source": [
    "# # Train\n",
    "---"
   ]
  },
  {
   "cell_type": "code",
   "execution_count": null,
   "metadata": {},
   "outputs": [],
   "source": [
    "%cd /data/kimgh/CenterPoint\n",
    "\n",
    "CONFIG_PATH = '/data/kimgh/CenterPoint/configs/nusc/voxelnet/nusc_centerpoint_voxelnet_01voxel.py'\n",
    "work_dir = './result/nusc_centerpoint_voxelnet_01voxel'\n",
    "\n",
    "f'!torchrun --nproc_per_node 4 train.py {CONFIG_PATH} --work_dir {work_dir} --validate'"
   ]
  },
  {
   "cell_type": "code",
   "execution_count": null,
   "metadata": {},
   "outputs": [],
   "source": [
    "%cd /data/kimgh/CenterPoint\n",
    "\n",
    "CONFIG_PATH = '/data/kimgh/CenterPoint/configs/nusc/voxelnet/nusc_centerpoint_voxelnet_01voxel.py'\n",
    "work_dir = './result/nusc_centerpoint_voxelnet_01voxel'\n",
    "\n",
    "!python train.py {CONFIG_PATH} --work_dir {work_dir} --validate"
   ]
  },
  {
   "cell_type": "markdown",
   "metadata": {},
   "source": [
    "# # Validation\n",
    "---"
   ]
  },
  {
   "cell_type": "code",
   "execution_count": 9,
   "metadata": {},
   "outputs": [
    {
     "name": "stdout",
     "output_type": "stream",
     "text": [
      "/data/kimgh/CenterPoint-custom/CenterPoint-static\n",
      "No APEX!\n",
      "no apex\n",
      "2023-04-06 15:01:54.503827: I tensorflow/core/platform/cpu_feature_guard.cc:182] This TensorFlow binary is optimized to use available CPU instructions in performance-critical operations.\n",
      "To enable the following instructions: AVX2 FMA, in other operations, rebuild TensorFlow with the appropriate compiler flags.\n",
      "2023-04-06 15:01:55.936502: W tensorflow/compiler/tf2tensorrt/utils/py_utils.cc:38] TF-TRT Warning: Could not find TensorRT\n",
      "No Tensorflow\n",
      "Deformable Convolution not built!\n",
      "No APEX!\n",
      "/data/kimgh/CenterPoint-custom/CenterPoint-static/configs/nia/lidar/nia_centerpoint_voxelnet_01voxel.py\n",
      "2023-04-06 15:01:56,858 - INFO - Sensor: lidar\n",
      "2023-04-06 15:01:56,858 - INFO - Config: /data/kimgh/CenterPoint-custom/CenterPoint-static/configs/nia/lidar/nia_centerpoint_voxelnet_01voxel.py\n",
      "2023-04-06 15:01:56,859 - INFO - Distributed testing: False\n",
      "2023-04-06 15:01:56,859 - INFO - torch.backends.cudnn.benchmark: False\n",
      "2023-04-06 15:01:57,012 - INFO - Finish RPN Initialization\n",
      "2023-04-06 15:01:57,013 - INFO - num_classes: [1, 1, 1, 1, 1, 1, 1]\n",
      "Use HM Bias:  -2.19\n",
      "2023-04-06 15:01:57,088 - INFO - Finish CenterHead Initialization\n",
      "Use Val Set\n",
      "1\n",
      "2023-04-06 15:02:06,671 - INFO - work dir: /data/kimgh/CenterPoint-custom/CenterPoint-static/result\n",
      "[                              ] 0/330, elapsed: 0s, ETA:/home/ubuntu/anaconda3/envs/nia48_310/lib/python3.10/site-packages/torch/functional.py:504: UserWarning: torch.meshgrid: in an upcoming release, it will be required to pass the indexing argument. (Triggered internally at ../aten/src/ATen/native/TensorShape.cpp:3483.)\n",
      "  return _VF.meshgrid(tensors, **kwargs)  # type: ignore[attr-defined]\n",
      "[>>>>>>>>>>>>>>>>>>>>>>>>>>>>>>] 330/330, 3.6 task/s, elapsed: 93s, ETA:     0s\n",
      " Total time per frame:  0.1460563898086548\n",
      "Finish generate predictions for testset, save to /data/kimgh/CenterPoint-custom/CenterPoint-static/result/infos_test_normal_filter_True_lidar.json\n",
      "Initializing nuScenes detection evaluation\n",
      "Loaded results from /data/kimgh/CenterPoint-custom/CenterPoint-static/result/infos_test_normal_filter_True_lidar.json. Found detections for 330 samples.\n",
      "Loaded ground truth annotations for 330 samples.\n",
      "Accumulating metric data...\n",
      "Calculating metrics...\n",
      "Rendering PR and TP curves\n",
      "Saving metrics to: /data/kimgh/CenterPoint-custom/CenterPoint-static/result\n",
      "mAP: 0.0622\n",
      "mATE: 0.9173\n",
      "mASE: 0.8921\n",
      "mAOE: 1.1599\n",
      "mAVE: 0.8000\n",
      "mAAE: 1.0000\n",
      "NDS: 0.0702\n",
      "Eval time: 0.1s\n",
      "\n",
      "Per-class results:\n",
      "Object Class\tAP\tATE\tASE\tAOE\tAVE\tAAE\n",
      "car\t0.000\t1.000\t1.000\t1.000\t1.000\t1.000\n",
      "truck\t0.000\t1.000\t1.000\t1.000\t1.000\t1.000\n",
      "bus\t0.000\t1.000\t1.000\t1.000\t1.000\t1.000\n",
      "trailer\t0.000\t1.000\t1.000\t1.000\t1.000\t1.000\n",
      "construction_vehicle\t0.000\t1.000\t1.000\t1.000\t1.000\t1.000\n",
      "pedestrian\t0.000\t1.000\t1.000\t1.000\t1.000\t1.000\n",
      "motorcycle\t0.000\t1.000\t1.000\t1.000\t1.000\t1.000\n",
      "bicycle\t0.000\t1.000\t1.000\t1.000\t1.000\t1.000\n",
      "traffic_cone\t0.000\t1.000\t1.000\tnan\tnan\tnan\n",
      "barrier\t0.000\t1.000\t1.000\t1.000\tnan\tnan\n",
      "median_strip\t0.012\t1.126\t0.351\t2.398\t0.000\t1.000\n",
      "sound_barrier\t0.000\t1.000\t1.000\t1.000\t1.000\t1.000\n",
      "overpass\t0.000\t1.000\t1.000\t1.000\t1.000\t1.000\n",
      "tunnel\t0.000\t1.000\t1.000\t1.000\t1.000\t1.000\n",
      "street_trees\t0.299\t0.301\t0.544\t0.052\t0.000\t1.000\n",
      "road_sign\t0.747\t0.168\t0.269\t3.108\t0.000\t1.000\n",
      "ramp_sect\t0.000\t1.000\t1.000\t1.000\t1.000\t1.000\n",
      "Evaluation nusc: Nusc v1.0-trainval Evaluation\n",
      "median_strip Nusc dist AP@2.0, 4.0\n",
      "0.27, 2.09 mean AP: 0.011803526904992347\n",
      "road_sign Nusc dist AP@2.0, 4.0\n",
      "74.67, 74.67 mean AP: 0.74667875582106\n",
      "ramp_sect Nusc dist AP@2.0, 4.0\n",
      "0.00, 0.00 mean AP: 0.0\n",
      "sound_barrier Nusc dist AP@2.0, 4.0\n",
      "0.00, 0.00 mean AP: 0.0\n",
      "overpass Nusc dist AP@2.0, 4.0\n",
      "0.00, 0.00 mean AP: 0.0\n",
      "tunnel Nusc dist AP@2.0, 4.0\n",
      "0.00, 0.00 mean AP: 0.0\n",
      "street_trees Nusc dist AP@2.0, 4.0\n",
      "29.79, 29.92 mean AP: 0.29854292659891835\n",
      "\n"
     ]
    }
   ],
   "source": [
    "%cd /data/kimgh/CenterPoint-custom/CenterPoint-static\n",
    "\n",
    "config = '/data/kimgh/CenterPoint-custom/CenterPoint-static/configs/nia/lidar/nia_centerpoint_voxelnet_01voxel.py'\n",
    "work_dir = '/data/kimgh/CenterPoint-custom/CenterPoint-static/result'\n",
    "checkpoint = '/data/kimgh/CenterPoint-custom/CenterPoint-static/weights/nia_centerpoint_static_lidar.pth'\n",
    "anno_path = '/data/kimgh/CenterPoint-custom/CenterPoint-static/data_temp/infos_test_normal_filter_True_lidar.pkl'\n",
    "\n",
    "!CUDA_VISIBLE_DEVICES=1 python dist_test.py --config {config} --work_dir {work_dir} --checkpoint {checkpoint} --speed_test"
   ]
  }
 ],
 "metadata": {
  "kernelspec": {
   "display_name": "nia48_310",
   "language": "python",
   "name": "python3"
  },
  "language_info": {
   "codemirror_mode": {
    "name": "ipython",
    "version": 3
   },
   "file_extension": ".py",
   "mimetype": "text/x-python",
   "name": "python",
   "nbconvert_exporter": "python",
   "pygments_lexer": "ipython3",
   "version": "3.10.10"
  },
  "orig_nbformat": 4
 },
 "nbformat": 4,
 "nbformat_minor": 2
}
