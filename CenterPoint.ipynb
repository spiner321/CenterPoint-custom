{
 "cells": [
  {
   "cell_type": "markdown",
   "metadata": {},
   "source": [
    "# # setup\n",
    "---"
   ]
  },
  {
   "cell_type": "code",
   "execution_count": null,
   "metadata": {},
   "outputs": [],
   "source": [
    "%cd /data/kimgh/CenterPoint-static/det3d/ops/iou3d_nms\n",
    "\n",
    "!python setup.py build_ext --inplace"
   ]
  },
  {
   "cell_type": "markdown",
   "metadata": {},
   "source": [
    "# # Prepare data\n",
    "---"
   ]
  },
  {
   "cell_type": "code",
   "execution_count": null,
   "metadata": {},
   "outputs": [],
   "source": [
    "%cd /data/kimgh/CenterPoint\n",
    "\n",
    "!python create_data.py nuscenes_data_prep --root_path '/data/kimgh/CenterPoint/data/nuScenes/' --version 'v1.0-mini' --nsweeps 10"
   ]
  },
  {
   "cell_type": "code",
   "execution_count": null,
   "metadata": {},
   "outputs": [],
   "source": [
    "%cd /data/kimgh/CenterPoint-custom/CenterPoint-dynamic\n",
    "\n",
    "root_path = '/data/kimgh/CenterPoint-custom/CenterPoint-dynamic/data'\n",
    "sensor ='lidar'\n",
    "\n",
    "!python create_data.py nia_data_prep --root_path {root_path} --sensor {sensor}"
   ]
  },
  {
   "cell_type": "code",
   "execution_count": null,
   "metadata": {},
   "outputs": [],
   "source": [
    "%cd /data/kimgh/CenterPoint-custom/CenterPoint-static\n",
    "\n",
    "root_path = '/data/kimgh/CenterPoint-custom/CenterPoint-static/data/lidar'\n",
    "sensor = 'lidar'\n",
    "subsample = 10\n",
    "num_process = 10\n",
    "\n",
    "f'!python create_data.py nia_data_prep --root_path {root_path} --sensor {sensor} --subsample {subsample} --num_process {num_process}'"
   ]
  },
  {
   "cell_type": "code",
   "execution_count": null,
   "metadata": {},
   "outputs": [],
   "source": [
    "%cd /data/kimgh/CenterPoint-custom/CenterPoint-static\n",
    "\n",
    "root_path = '/data/kimgh/CenterPoint-custom/CenterPoint-static/data/radar'\n",
    "sensor = 'radar'\n",
    "subsample = 10\n",
    "num_process = 10\n",
    "\n",
    "f'!python create_data.py nia_data_prep --root_path {root_path} --sensor {sensor} --subsample {subsample} --num_process {num_process}'"
   ]
  },
  {
   "cell_type": "code",
   "execution_count": null,
   "metadata": {},
   "outputs": [],
   "source": [
    "%cd /data/kimgh/CenterPoint-custom/CenterPoint-static\n",
    "\n",
    "root_path = '/data/kimgh/CenterPoint-custom/CenterPoint-static/data/etc/test'\n",
    "sensor = 'lidar'\n",
    "subsample = 10\n",
    "num_process = 10\n",
    "\n",
    "!python create_data.py nia_data_prep --root_path {root_path} --sensor {sensor} --subsample {subsample} --num_process {num_process}"
   ]
  },
  {
   "attachments": {},
   "cell_type": "markdown",
   "metadata": {},
   "source": [
    "# # Train\n",
    "---\n",
    "- pm2 start train_multigpu.sh --interpreter bash --name \"centerpoint_train_lidar\" --no-autorestart -- 4 --config /data/kimgh/CenterPoint-custom/CenterPoint-static/configs/nia/lidar/nia_centerpoint_voxelnet_01voxel_lidar_train.py --work_dir ./result/lidar_1stsub/train --validate\n",
    "\n",
    "- CUDA_VISIBLE_DEVICES=1,2 pm2 start train_multigpu.sh --interpreter bash --name \"centerpoint_train_radar\" --no-autorestart -- 2 --config /data/kimgh/CenterPoint-custom/CenterPoint-static/configs/nia/radar/nia_centerpoint_voxelnet_01voxel_radar_train.py --work_dir ./result/selectsub/train/radar --validate"
   ]
  },
  {
   "cell_type": "code",
   "execution_count": null,
   "metadata": {},
   "outputs": [],
   "source": [
    "%cd /data/kimgh/CenterPoint\n",
    "\n",
    "CONFIG_PATH = '/data/kimgh/CenterPoint/configs/nusc/voxelnet/nusc_centerpoint_voxelnet_01voxel.py'\n",
    "work_dir = './result/nusc_centerpoint_voxelnet_01voxel'\n",
    "\n",
    "f'!python -m torch.distributed.launch --nproc_per_node 4 train.py {CONFIG_PATH} --work_dir {work_dir} --validate'"
   ]
  },
  {
   "cell_type": "code",
   "execution_count": null,
   "metadata": {},
   "outputs": [],
   "source": [
    "%cd /data/kimgh/CenterPoint-custom/CenterPoint-static\n",
    "\n",
    "CONFIG_PATH = '/data/kimgh/CenterPoint-custom/CenterPoint-static/configs/nia/lidar/nia_centerpoint_voxelnet_01voxel_lidar_normal.py'\n",
    "work_dir = './result/lidar/train'\n",
    "\n",
    "!python train.py --config {CONFIG_PATH} --work_dir {work_dir} --validate"
   ]
  },
  {
   "cell_type": "code",
   "execution_count": null,
   "metadata": {},
   "outputs": [],
   "source": [
    "%cd /data/kimgh/CenterPoint-custom/CenterPoint-static\n",
    "\n",
    "CONFIG_PATH = '/data/kimgh/CenterPoint-custom/CenterPoint-static/configs/nia/lidar/nia_centerpoint_voxelnet_01voxel_lidar_train.py'\n",
    "work_dir = './result/selectsub/train/lidar'\n",
    "\n",
    "f'!python -m torch.distributed.launch --nproc_per_node 4 train.py --config {CONFIG_PATH} --work_dir {work_dir} --validate'"
   ]
  },
  {
   "cell_type": "code",
   "execution_count": null,
   "metadata": {},
   "outputs": [],
   "source": [
    "%cd /data/kimgh/CenterPoint-custom/CenterPoint-dynamic\n",
    "\n",
    "CONFIG_PATH = '/data/kimgh/CenterPoint-custom/CenterPoint-dynamic/configs/nia/lidar/nia_centerpoint_voxelnet_01voxel.py'\n",
    "work_dir = './result/selectsub/train/lidar'\n",
    "\n",
    "!python -m torch.distributed.launch --nproc_per_node 4 train.py --config {CONFIG_PATH} --work_dir {work_dir} --validate"
   ]
  },
  {
   "cell_type": "markdown",
   "metadata": {},
   "source": [
    "# # Validation\n",
    "---"
   ]
  },
  {
   "cell_type": "code",
   "execution_count": 42,
   "metadata": {},
   "outputs": [
    {
     "name": "stdout",
     "output_type": "stream",
     "text": [
      "/data/kimgh/CenterPoint-custom/CenterPoint-static\n",
      "35145\n",
      "/home/ubuntu/anaconda3/envs/nia48_310/lib/python3.10/site-packages/torch/distributed/launch.py:181: FutureWarning: The module torch.distributed.launch is deprecated\n",
      "and will be removed in future. Use torchrun.\n",
      "Note that --use-env is set by default in torchrun.\n",
      "If your script expects `--local-rank` argument to be set, please\n",
      "change it to read from `os.environ['LOCAL_RANK']` instead. See \n",
      "https://pytorch.org/docs/stable/distributed.html#launch-utility for \n",
      "further instructions\n",
      "\n",
      "  warnings.warn(\n",
      "WARNING:torch.distributed.run:\n",
      "*****************************************\n",
      "Setting OMP_NUM_THREADS environment variable for each process to be 1 in default, to avoid your system being overloaded, please further tune the variable for optimal performance in your application as needed. \n",
      "*****************************************\n",
      "No APEX!\n",
      "No APEX!\n",
      "no apex\n",
      "no apex\n",
      "2023-05-02 16:23:13.405468: I tensorflow/core/platform/cpu_feature_guard.cc:182] This TensorFlow binary is optimized to use available CPU instructions in performance-critical operations.\n",
      "To enable the following instructions: AVX2 FMA, in other operations, rebuild TensorFlow with the appropriate compiler flags.\n",
      "2023-05-02 16:23:13.410135: I tensorflow/core/platform/cpu_feature_guard.cc:182] This TensorFlow binary is optimized to use available CPU instructions in performance-critical operations.\n",
      "To enable the following instructions: AVX2 FMA, in other operations, rebuild TensorFlow with the appropriate compiler flags.\n",
      "2023-05-02 16:23:14.640840: W tensorflow/compiler/tf2tensorrt/utils/py_utils.cc:38] TF-TRT Warning: Could not find TensorRT\n",
      "2023-05-02 16:23:14.641049: W tensorflow/compiler/tf2tensorrt/utils/py_utils.cc:38] TF-TRT Warning: Could not find TensorRT\n",
      "No TensorflowNo Tensorflow\n",
      "\n",
      "Deformable Convolution not built!\n",
      "Deformable Convolution not built!\n",
      "No APEX!\n",
      "No APEX!\n",
      "/data/kimgh/CenterPoint-custom/CenterPoint-static/configs/nia/lidar/nia_centerpoint_voxelnet_01voxel_lidar_normal.py\n",
      "/data/kimgh/CenterPoint-custom/CenterPoint-static/configs/nia/lidar/nia_centerpoint_voxelnet_01voxel_lidar_normal.py\n",
      "2023-05-02 16:23:15,995 - INFO - Sensor: lidar\n",
      "2023-05-02 16:23:15,996 - INFO - Config: /data/kimgh/CenterPoint-custom/CenterPoint-static/configs/nia/lidar/nia_centerpoint_voxelnet_01voxel_lidar_normal.py\n",
      "2023-05-02 16:23:15,996 - INFO - Distributed testing: True\n",
      "2023-05-02 16:23:15,996 - INFO - torch.backends.cudnn.benchmark: False\n",
      "Use HM Bias:  -2.19\n",
      "2023-05-02 16:23:16,073 - INFO - Finish RPN Initialization\n",
      "2023-05-02 16:23:16,073 - INFO - num_classes: [1, 1, 1, 1, 1, 1, 1]\n",
      "Use HM Bias:  -2.19\n",
      "Use Val Set\n",
      "2023-05-02 16:23:16,117 - INFO - Finish CenterHead Initialization\n",
      "Use Val Set\n",
      "1\n",
      "------------------------------------\n",
      "/data/kimgh/CenterPoint-custom/CenterPoint-static/data/selectsub/infos_test_normal_filter_True_lidar.pkl\n",
      "------------------------------------\n",
      "1\n",
      "------------------------------------\n",
      "/data/kimgh/CenterPoint-custom/CenterPoint-static/data/selectsub/infos_test_normal_filter_True_lidar.pkl\n",
      "------------------------------------\n",
      "2023-05-02 16:23:26,265 - INFO - work dir: /data/kimgh/CenterPoint-custom/CenterPoint-static/result/selectsub/test/lidar/normal_epoch20_\n",
      "[                              ] 0/2391, elapsed: 0s, ETA:/home/ubuntu/anaconda3/envs/nia48_310/lib/python3.10/site-packages/torch/functional.py:504: UserWarning: torch.meshgrid: in an upcoming release, it will be required to pass the indexing argument. (Triggered internally at ../aten/src/ATen/native/TensorShape.cpp:3483.)\n",
      "  return _VF.meshgrid(tensors, **kwargs)  # type: ignore[attr-defined]\n",
      "/home/ubuntu/anaconda3/envs/nia48_310/lib/python3.10/site-packages/torch/functional.py:504: UserWarning: torch.meshgrid: in an upcoming release, it will be required to pass the indexing argument. (Triggered internally at ../aten/src/ATen/native/TensorShape.cpp:3483.)\n",
      "  return _VF.meshgrid(tensors, **kwargs)  # type: ignore[attr-defined]\n",
      "[>>>>>>>>>>>>>>>>>>>>>>>>>>>>>>] 2391/2391, 3.7 task/s, elapsed: 648s, ETA:     0s/data/kimgh/CenterPoint-custom/CenterPoint-static/det3d/torchie/trainer/utils.py:128: UserWarning: TypedStorage is deprecated. It will be removed in the future and UntypedStorage will be the only storage class. This should only matter to you if you are using storages directly.  To access UntypedStorage directly, use tensor.untyped_storage() instead of tensor.storage()\n",
      "  storage = torch.ByteStorage.from_buffer(buffer)\n",
      "/data/kimgh/CenterPoint-custom/CenterPoint-static/det3d/torchie/trainer/utils.py:128: UserWarning: TypedStorage is deprecated. It will be removed in the future and UntypedStorage will be the only storage class. This should only matter to you if you are using storages directly.  To access UntypedStorage directly, use tensor.untyped_storage() instead of tensor.storage()\n",
      "  storage = torch.ByteStorage.from_buffer(buffer)\n",
      "\n",
      " Total time per frame:  -1055842.3108562506\n",
      "\n",
      " Total time per frame:  -1055842.2827324066\n",
      "Finish generate predictions for testset, save to /data/kimgh/CenterPoint-custom/CenterPoint-static/result/selectsub/test/lidar/normal_epoch20_/infos_test_normal_filter_True_lidar.json\n",
      "Initializing nuScenes detection evaluation\n",
      "Loaded results from /data/kimgh/CenterPoint-custom/CenterPoint-static/result/selectsub/test/lidar/normal_epoch20_/infos_test_normal_filter_True_lidar.json. Found detections for 4782 samples.\n",
      "Loaded ground truth annotations for 4782 samples.\n",
      "Accumulating metric data...\n",
      "Calculating metrics...\n",
      "Rendering PR and TP curves\n",
      "Saving metrics to: /data/kimgh/CenterPoint-custom/CenterPoint-static/result/selectsub/test/lidar/normal_epoch20_\n",
      "mAP: 0.4601\n",
      "mATE: 0.5997\n",
      "mASE: 0.3734\n",
      "mAOE: 0.6494\n",
      "mAVE: 0.0003\n",
      "mAAE: 1.0000\n",
      "NDS: 0.4678\n",
      "Eval time: 4.1s\n",
      "\n",
      "Per-class results:\n",
      "Object Class\tAP\tATE\tASE\tAOE\tAVE\tAAE\n",
      "median_strip\t0.148\t0.806\t0.373\t0.453\t0.000\t1.000\n",
      "sound_barrier\t0.161\t0.834\t0.368\t0.457\t0.000\t1.000\n",
      "overpass\t0.477\t0.839\t0.394\t0.646\t0.000\t1.000\n",
      "tunnel\t0.805\t0.566\t0.280\t0.390\t0.000\t1.000\n",
      "street_trees\t0.876\t0.118\t0.508\t0.371\t0.001\t1.000\n",
      "road_sign\t0.559\t0.339\t0.437\t0.709\t0.000\t1.000\n",
      "ramp_sect\t0.194\t0.697\t0.253\t1.519\t0.000\t1.000\n",
      "Evaluation nusc: Nusc v1.0-trainval Evaluation\n",
      "median_strip Nusc dist AP@2.0, 4.0\n",
      "9.64, 20.03 mean AP: 0.14834029935673154\n",
      "road_sign Nusc dist AP@2.0, 4.0\n",
      "54.13, 57.71 mean AP: 0.5592380079062557\n",
      "ramp_sect Nusc dist AP@2.0, 4.0\n",
      "17.10, 21.77 mean AP: 0.1943511160944204\n",
      "sound_barrier Nusc dist AP@2.0, 4.0\n",
      "11.92, 20.21 mean AP: 0.16067375769769113\n",
      "overpass Nusc dist AP@2.0, 4.0\n",
      "35.36, 59.99 mean AP: 0.47678868073485026\n",
      "tunnel Nusc dist AP@2.0, 4.0\n",
      "73.72, 87.35 mean AP: 0.8053265539844916\n",
      "street_trees Nusc dist AP@2.0, 4.0\n",
      "87.43, 87.78 mean AP: 0.8760592290711104\n",
      "\n"
     ]
    }
   ],
   "source": [
    "# lidar-normal\n",
    "\n",
    "%cd /data/kimgh/CenterPoint-custom/CenterPoint-static\n",
    "\n",
    "config = '/data/kimgh/CenterPoint-custom/CenterPoint-static/configs/nia/lidar/nia_centerpoint_voxelnet_01voxel_lidar_normal.py'\n",
    "work_dir = '/data/kimgh/CenterPoint-custom/CenterPoint-static/result/selectsub/test/lidar/normal_epoch24'\n",
    "checkpoint = '/data/kimgh/CenterPoint-custom/CenterPoint-static/result/selectsub/train/lidar/epoch_24.pth'\n",
    "sensor = 'lidar'\n",
    "\n",
    "# f'!CUDA_VISIBLE_DEVICES=1,2,3 python dist_test.py --config {config} --work_dir {work_dir} --checkpoint {checkpoint} --sensor {sensor} --speed_test'\n",
    "!CUDA_VISIBLE_DEVICES=0,1 bash test_multigpu.sh 2 --config {config} --work_dir {work_dir} --checkpoint {checkpoint} --sensor {sensor} --speed_test"
   ]
  },
  {
   "cell_type": "code",
   "execution_count": null,
   "metadata": {},
   "outputs": [],
   "source": [
    "# lidar-abnormal\n",
    "\n",
    "%cd /data/kimgh/CenterPoint-custom/CenterPoint-static\n",
    "\n",
    "config = '/data/kimgh/CenterPoint-custom/CenterPoint-static/configs/nia/lidar/nia_centerpoint_voxelnet_01voxel_lidar_abnormal.py'\n",
    "work_dir = '/data/kimgh/CenterPoint-custom/CenterPoint-static/result/selectsub/test/lidar/abnormal_epoch22'\n",
    "checkpoint = '/data/kimgh/CenterPoint-custom/CenterPoint-static/result/selectsub/train/lidar/epoch_22.pth'\n",
    "sensor = 'lidar'\n",
    "\n",
    "f'!CUDA_VISIBLE_DEVICES=1,2,3 python dist_test.py --config {config} --work_dir {work_dir} --checkpoint {checkpoint} --sensor {sensor} --speed_test'\n",
    "f'!CUDA_VISIBLE_DEVICES=1,2,3 bash test_multigpu.sh 3 --config {config} --work_dir {work_dir} --checkpoint {checkpoint} --sensor {sensor} --speed_test'"
   ]
  },
  {
   "cell_type": "code",
   "execution_count": null,
   "metadata": {},
   "outputs": [],
   "source": [
    "# radar-normal\n",
    "\n",
    "%cd /data/kimgh/CenterPoint-custom/CenterPoint-static\n",
    "\n",
    "config = '/data/kimgh/CenterPoint-custom/CenterPoint-static/configs/nia/radar/nia_centerpoint_voxelnet_01voxel_radar_normal.py'\n",
    "work_dir = '/data/kimgh/CenterPoint-custom/CenterPoint-static/result/selectsub/test/radar/normal_epoch25'\n",
    "checkpoint = '/data/kimgh/CenterPoint-custom/CenterPoint-static/result/selectsub/train/radar/epoch_25.pth'\n",
    "sensor = 'radar'\n",
    "\n",
    "!CUDA_VISIBLE_DEVICES=1 python dist_test.py --config {config} --work_dir {work_dir} --checkpoint {checkpoint} --sensor {sensor} --speed_test\n",
    "# f'!CUDA_VISIBLE_DEVICES=1,2,3 bash test_multigpu.sh 3 --config {config} --work_dir {work_dir} --checkpoint {checkpoint} --sensor {sensor} --speed_test'"
   ]
  },
  {
   "cell_type": "code",
   "execution_count": null,
   "metadata": {},
   "outputs": [],
   "source": [
    "# radar-abnormal\n",
    "\n",
    "%cd /data/kimgh/CenterPoint-custom/CenterPoint-static\n",
    "\n",
    "config = '/data/kimgh/CenterPoint-custom/CenterPoint-static/configs/nia/radar/nia_centerpoint_voxelnet_01voxel_radar_abnormal.py'\n",
    "work_dir = '/data/kimgh/CenterPoint-custom/CenterPoint-static/result/selectsub/test/radar/abnormal_epoch15'\n",
    "checkpoint = '/data/kimgh/CenterPoint-custom/CenterPoint-static/result/selectsub/train/radar/epoch_15.pth'\n",
    "sensor = 'radar'\n",
    "\n",
    "# !CUDA_VISIBLE_DEVICES=0 python dist_test.py --config {config} --work_dir {work_dir} --checkpoint {checkpoint} --sensor {sensor} --speed_test\n",
    "f'!CUDA_VISIBLE_DEVICES=1,2,3 bash test_multigpu.sh 3 --config {config} --work_dir {work_dir} --checkpoint {checkpoint} --sensor {sensor} --speed_test'"
   ]
  },
  {
   "cell_type": "code",
   "execution_count": null,
   "metadata": {},
   "outputs": [],
   "source": []
  },
  {
   "cell_type": "code",
   "execution_count": null,
   "metadata": {},
   "outputs": [],
   "source": [
    "# radar-abnormal\n",
    "\n",
    "%cd /data/kimgh/CenterPoint-custom/CenterPoint-static\n",
    "\n",
    "config = '/data/kimgh/CenterPoint-custom/CenterPoint-static/configs/nia/radar/nia_centerpoint_voxelnet_01voxel_radar_abnormal.py'\n",
    "work_dir = '/data/kimgh/test'\n",
    "checkpoint = '/data/kimgh/CenterPoint-custom/CenterPoint-static/result/selectsub/train/radar/epoch_15.pth'\n",
    "sensor = 'radar'\n",
    "\n",
    "# !CUDA_VISIBLE_DEVICES=0 python dist_test.py --config {config} --work_dir {work_dir} --checkpoint {checkpoint} --sensor {sensor} --speed_test\n",
    "!CUDA_VISIBLE_DEVICES=0,1 bash test_multigpu.sh 2 --config {config} --work_dir {work_dir} --checkpoint {checkpoint} --sensor {sensor} --speed_test"
   ]
  },
  {
   "cell_type": "code",
   "execution_count": 38,
   "metadata": {},
   "outputs": [
    {
     "name": "stdout",
     "output_type": "stream",
     "text": [
      "/data/kimgh/CenterPoint-custom/CenterPoint-static\n",
      "No APEX!\n",
      "no apex\n",
      "2023-05-02 15:38:02.986274: I tensorflow/core/platform/cpu_feature_guard.cc:182] This TensorFlow binary is optimized to use available CPU instructions in performance-critical operations.\n",
      "To enable the following instructions: AVX2 FMA, in other operations, rebuild TensorFlow with the appropriate compiler flags.\n",
      "2023-05-02 15:38:04.093006: W tensorflow/compiler/tf2tensorrt/utils/py_utils.cc:38] TF-TRT Warning: Could not find TensorRT\n",
      "No Tensorflow\n",
      "Deformable Convolution not built!\n",
      "No APEX!\n",
      "/data/kimgh/CenterPoint-custom/CenterPoint-static/configs/nia/lidar/nia_centerpoint_voxelnet_01voxel_lidar_normal_copy.py\n",
      "2023-05-02 15:38:04,876 - INFO - Sensor: lidar\n",
      "2023-05-02 15:38:04,876 - INFO - Config: /data/kimgh/CenterPoint-custom/CenterPoint-static/configs/nia/lidar/nia_centerpoint_voxelnet_01voxel_lidar_normal_copy.py\n",
      "2023-05-02 15:38:04,876 - INFO - Distributed testing: False\n",
      "2023-05-02 15:38:04,876 - INFO - torch.backends.cudnn.benchmark: False\n",
      "2023-05-02 15:38:05,003 - INFO - Finish RPN Initialization\n",
      "2023-05-02 15:38:05,003 - INFO - num_classes: [1, 1, 1, 1, 1, 1, 1]\n",
      "Use HM Bias:  -2.19\n",
      "2023-05-02 15:38:05,069 - INFO - Finish CenterHead Initialization\n",
      "Use Val Set\n",
      "1\n",
      "------------------------------------\n",
      "/data/kimgh/CenterPoint-custom/CenterPoint-static/data/sample/infos_test_normal_filter_True_lidar.pkl\n",
      "------------------------------------\n",
      "2023-05-02 15:38:09,656 - INFO - work dir: /data/kimgh/test\n",
      "[                              ] 0/30, elapsed: 0s, ETA:/home/ubuntu/anaconda3/envs/nia48_310/lib/python3.10/site-packages/torch/functional.py:504: UserWarning: torch.meshgrid: in an upcoming release, it will be required to pass the indexing argument. (Triggered internally at ../aten/src/ATen/native/TensorShape.cpp:3483.)\n",
      "  return _VF.meshgrid(tensors, **kwargs)  # type: ignore[attr-defined]\n",
      "[>>>>>>>>>>>>>>>>>>>>>>>>>>>>>>] 30/30, 2.8 task/s, elapsed: 11s, ETA:     0s\n",
      " Total time per frame:  0.07138223648071289\n",
      "Finish generate predictions for testset, save to /data/kimgh/test/infos_test_normal_filter_True_lidar.json\n",
      "Initializing nuScenes detection evaluation\n",
      "Loaded results from /data/kimgh/test/infos_test_normal_filter_True_lidar.json. Found detections for 30 samples.\n",
      "Loaded ground truth annotations for 30 samples.\n",
      "Accumulating metric data...\n",
      "Calculating metrics...\n",
      "Rendering PR and TP curves\n",
      "Saving metrics to: /data/kimgh/test\n",
      "mAP: 0.2520\n",
      "mATE: 0.7492\n",
      "mASE: 0.7131\n",
      "mAOE: 1.0383\n",
      "mAVE: 0.5715\n",
      "mAAE: 1.0000\n",
      "NDS: 0.2226\n",
      "Eval time: 0.0s\n",
      "\n",
      "Per-class results:\n",
      "Object Class\tAP\tATE\tASE\tAOE\tAVE\tAAE\n",
      "median_strip\t0.000\t1.000\t1.000\t1.000\t1.000\t1.000\n",
      "sound_barrier\t0.000\t1.000\t1.000\t1.000\t1.000\t1.000\n",
      "overpass\t0.809\t0.473\t0.257\t0.071\t0.000\t1.000\n",
      "tunnel\t0.000\t1.000\t1.000\t1.000\t1.000\t1.000\n",
      "street_trees\t0.947\t0.322\t0.404\t0.081\t0.000\t1.000\n",
      "road_sign\t0.008\t0.450\t0.331\t3.115\t0.000\t1.000\n",
      "ramp_sect\t0.000\t1.000\t1.000\t1.000\t1.000\t1.000\n",
      "Evaluation nusc: Nusc v1.0-trainval Evaluation\n",
      "median_strip Nusc dist AP@0.5, 1.0, 2.0, 4.0\n",
      "0.00, 0.00, 0.00, 0.00 mean AP: 0.0\n",
      "road_sign Nusc dist AP@0.5, 1.0, 2.0, 4.0\n",
      "0.77, 0.77, 0.77, 0.77 mean AP: 0.007671957671957666\n",
      "ramp_sect Nusc dist AP@0.5, 1.0, 2.0, 4.0\n",
      "0.00, 0.00, 0.00, 0.00 mean AP: 0.0\n",
      "sound_barrier Nusc dist AP@0.5, 1.0, 2.0, 4.0\n",
      "0.00, 0.00, 0.00, 0.00 mean AP: 0.0\n",
      "overpass Nusc dist AP@0.5, 1.0, 2.0, 4.0\n",
      "24.02, 99.85, 99.85, 99.85 mean AP: 0.8089034391534393\n",
      "tunnel Nusc dist AP@0.5, 1.0, 2.0, 4.0\n",
      "0.00, 0.00, 0.00, 0.00 mean AP: 0.0\n",
      "street_trees Nusc dist AP@0.5, 1.0, 2.0, 4.0\n",
      "90.52, 96.11, 96.11, 96.11 mean AP: 0.9471088108790584\n",
      "\n"
     ]
    }
   ],
   "source": [
    "%cd /data/kimgh/CenterPoint-custom/CenterPoint-static\n",
    "\n",
    "config = '/data/kimgh/CenterPoint-custom/CenterPoint-static/configs/nia/lidar/nia_centerpoint_voxelnet_01voxel_lidar_normal_copy.py'\n",
    "work_dir = '/data/kimgh/test'\n",
    "checkpoint = '/data/kimgh/CenterPoint-custom/CenterPoint-static/result/selectsub/train/lidar/epoch_22.pth'\n",
    "sensor = 'lidar'\n",
    "\n",
    "!CUDA_VISIBLE_DEVICES=0 python dist_test.py --config {config} --work_dir {work_dir} --checkpoint {checkpoint} --sensor {sensor} --speed_test\n",
    "# f'!CUDA_VISIBLE_DEVICES=1,2,3 bash test_multigpu.sh 3 --config {config} --work_dir {work_dir} --checkpoint {checkpoint} --sensor {sensor} --speed_test'"
   ]
  }
 ],
 "metadata": {
  "kernelspec": {
   "display_name": "Python 3 (ipykernel)",
   "language": "python",
   "name": "python3"
  },
  "language_info": {
   "codemirror_mode": {
    "name": "ipython",
    "version": 3
   },
   "file_extension": ".py",
   "mimetype": "text/x-python",
   "name": "python",
   "nbconvert_exporter": "python",
   "pygments_lexer": "ipython3",
   "version": "3.10.10"
  },
  "orig_nbformat": 4
 },
 "nbformat": 4,
 "nbformat_minor": 2
}
